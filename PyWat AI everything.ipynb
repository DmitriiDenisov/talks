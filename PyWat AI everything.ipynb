{
  "nbformat": 4,
  "nbformat_minor": 0,
  "metadata": {
    "kernelspec": {
      "display_name": "Python 3",
      "language": "python",
      "name": "python3"
    },
    "language_info": {
      "codemirror_mode": {
        "name": "ipython",
        "version": 3
      },
      "file_extension": ".py",
      "mimetype": "text/x-python",
      "name": "python",
      "nbconvert_exporter": "python",
      "pygments_lexer": "ipython3",
      "version": "3.7.4"
    },
    "colab": {
      "name": "PyWat AI everything.ipynb",
      "provenance": [],
      "include_colab_link": true
    }
  },
  "cells": [
    {
      "cell_type": "markdown",
      "metadata": {
        "id": "view-in-github",
        "colab_type": "text"
      },
      "source": [
        "<a href=\"https://colab.research.google.com/github/DmitriiDenisov/talks/blob/master/PyWat%20AI%20everything.ipynb\" target=\"_parent\"><img src=\"https://colab.research.google.com/assets/colab-badge.svg\" alt=\"Open In Colab\"/></a>"
      ]
    },
    {
      "cell_type": "markdown",
      "metadata": {
        "id": "WQAYc_RD2ztP",
        "colab_type": "text"
      },
      "source": [
        "## Dmitry Denisov, AI everything"
      ]
    },
    {
      "cell_type": "markdown",
      "metadata": {
        "id": "ZlvxLu9k2ztU",
        "colab_type": "text"
      },
      "source": [
        "### Open Data Science meetup"
      ]
    },
    {
      "cell_type": "markdown",
      "metadata": {
        "id": "CY-dcTcg2ztZ",
        "colab_type": "text"
      },
      "source": [
        "#### Source: https://github.com/cosmologicon/pywat"
      ]
    },
    {
      "cell_type": "code",
      "metadata": {
        "id": "uieQT4Oe2zte",
        "colab_type": "code",
        "outputId": "60f748ed-077a-48bc-bb24-3fe8781bd27f",
        "colab": {}
      },
      "source": [
        "from platform import python_version\n",
        "print(python_version())"
      ],
      "execution_count": 0,
      "outputs": [
        {
          "output_type": "stream",
          "text": [
            "3.7.4\n"
          ],
          "name": "stdout"
        }
      ]
    },
    {
      "cell_type": "markdown",
      "metadata": {
        "id": "jbmxgN8K2ztu",
        "colab_type": "text"
      },
      "source": [
        "What is PYWAT?? It is python wat"
      ]
    },
    {
      "cell_type": "markdown",
      "metadata": {
        "id": "VQyfeAB08TYI",
        "colab_type": "text"
      },
      "source": [
        "### 1. Different types:"
      ]
    },
    {
      "cell_type": "code",
      "metadata": {
        "id": "pikKKrZZ8YiW",
        "colab_type": "code",
        "colab": {
          "base_uri": "https://localhost:8080/",
          "height": 35
        },
        "outputId": "f7870ea4-af18-4b1d-89d6-cf67fc6278c6"
      },
      "source": [
        "type(1) == type(-1)"
      ],
      "execution_count": 95,
      "outputs": [
        {
          "output_type": "execute_result",
          "data": {
            "text/plain": [
              "True"
            ]
          },
          "metadata": {
            "tags": []
          },
          "execution_count": 95
        }
      ]
    },
    {
      "cell_type": "code",
      "metadata": {
        "id": "BwyIL5558drK",
        "colab_type": "code",
        "colab": {
          "base_uri": "https://localhost:8080/",
          "height": 35
        },
        "outputId": "3727bbb2-9a37-4779-f2b1-02ce100fb27c"
      },
      "source": [
        "1 ** 1 == 1 ** -1"
      ],
      "execution_count": 96,
      "outputs": [
        {
          "output_type": "execute_result",
          "data": {
            "text/plain": [
              "True"
            ]
          },
          "metadata": {
            "tags": []
          },
          "execution_count": 96
        }
      ]
    },
    {
      "cell_type": "code",
      "metadata": {
        "id": "vGNAOqiH8duB",
        "colab_type": "code",
        "colab": {
          "base_uri": "https://localhost:8080/",
          "height": 35
        },
        "outputId": "ac1c3f40-0247-4991-806b-dc5f17ec6fd4"
      },
      "source": [
        "type(1 ** 1) == type(1 ** -1)"
      ],
      "execution_count": 97,
      "outputs": [
        {
          "output_type": "execute_result",
          "data": {
            "text/plain": [
              "False"
            ]
          },
          "metadata": {
            "tags": []
          },
          "execution_count": 97
        }
      ]
    },
    {
      "cell_type": "markdown",
      "metadata": {
        "id": "-PaKT2PX8qJh",
        "colab_type": "text"
      },
      "source": [
        "#### Answer"
      ]
    },
    {
      "cell_type": "markdown",
      "metadata": {
        "id": "8k4F7OYC8wWl",
        "colab_type": "text"
      },
      "source": [
        "**type(1 ** 1) is int meanwhile type(1 ** -1) is float**"
      ]
    },
    {
      "cell_type": "markdown",
      "metadata": {
        "id": "bWppSnJNqHMn",
        "colab_type": "text"
      },
      "source": [
        "### 2. Operator precedence?"
      ]
    },
    {
      "cell_type": "code",
      "metadata": {
        "id": "XwiX-aT3ibBh",
        "colab_type": "code",
        "colab": {
          "base_uri": "https://localhost:8080/",
          "height": 35
        },
        "outputId": "4cc1dfc8-ff9c-4288-d685-b57ad89fa6de"
      },
      "source": [
        "(False == False) in [False]"
      ],
      "execution_count": 6,
      "outputs": [
        {
          "output_type": "execute_result",
          "data": {
            "text/plain": [
              "False"
            ]
          },
          "metadata": {
            "tags": []
          },
          "execution_count": 6
        }
      ]
    },
    {
      "cell_type": "code",
      "metadata": {
        "id": "S9JMFU_1ibD_",
        "colab_type": "code",
        "colab": {
          "base_uri": "https://localhost:8080/",
          "height": 35
        },
        "outputId": "395d6b46-8be5-47ff-8b03-6c82b37828fb"
      },
      "source": [
        "False == (False in [False])"
      ],
      "execution_count": 4,
      "outputs": [
        {
          "output_type": "execute_result",
          "data": {
            "text/plain": [
              "False"
            ]
          },
          "metadata": {
            "tags": []
          },
          "execution_count": 4
        }
      ]
    },
    {
      "cell_type": "code",
      "metadata": {
        "id": "TWFVGIuyjXN5",
        "colab_type": "code",
        "colab": {
          "base_uri": "https://localhost:8080/",
          "height": 35
        },
        "outputId": "e55d5436-b71b-46fc-9c4a-f4ca86add65d"
      },
      "source": [
        "False == False in [False]"
      ],
      "execution_count": 11,
      "outputs": [
        {
          "output_type": "execute_result",
          "data": {
            "text/plain": [
              "True"
            ]
          },
          "metadata": {
            "tags": []
          },
          "execution_count": 11
        }
      ]
    },
    {
      "cell_type": "code",
      "metadata": {
        "id": "HA-Ywd01ibLg",
        "colab_type": "code",
        "colab": {
          "base_uri": "https://localhost:8080/",
          "height": 35
        },
        "outputId": "4766697f-b89a-47a6-9be1-c26a3a2991be"
      },
      "source": [
        "1 in [1,2] == True"
      ],
      "execution_count": 16,
      "outputs": [
        {
          "output_type": "execute_result",
          "data": {
            "text/plain": [
              "False"
            ]
          },
          "metadata": {
            "tags": []
          },
          "execution_count": 16
        }
      ]
    },
    {
      "cell_type": "markdown",
      "metadata": {
        "id": "OkSpdoH_86nW",
        "colab_type": "text"
      },
      "source": [
        "#### Answer"
      ]
    },
    {
      "cell_type": "markdown",
      "metadata": {
        "id": "L5rmJ2LRpxMD",
        "colab_type": "text"
      },
      "source": [
        "**Neither the == nor the in happens first. They're both comparison operators,with the same precedence, so they're chained. The line is equivalent to False == False and False in [False], which is True**\n",
        "\n",
        "Source: https://stackoverflow.com/questions/31354429/why-is-true-is-false-false-false-in-python"
      ]
    },
    {
      "cell_type": "markdown",
      "metadata": {
        "id": "PjJfAJqvqKPG",
        "colab_type": "text"
      },
      "source": [
        "### 3. Types in comparisons"
      ]
    },
    {
      "cell_type": "code",
      "metadata": {
        "id": "nbuDdiz4qNo7",
        "colab_type": "code",
        "colab": {}
      },
      "source": [
        "a = [0, 0]\n",
        "(x, y) = a"
      ],
      "execution_count": 0,
      "outputs": []
    },
    {
      "cell_type": "code",
      "metadata": {
        "id": "48OKPpYHvPMI",
        "colab_type": "code",
        "colab": {
          "base_uri": "https://localhost:8080/",
          "height": 52
        },
        "outputId": "218fc725-57a4-4e50-8cdf-fa0e388b5eab"
      },
      "source": [
        "print(x)\n",
        "print(y)"
      ],
      "execution_count": 52,
      "outputs": [
        {
          "output_type": "stream",
          "text": [
            "0\n",
            "0\n"
          ],
          "name": "stdout"
        }
      ]
    },
    {
      "cell_type": "code",
      "metadata": {
        "id": "oemcqCr8qN2F",
        "colab_type": "code",
        "colab": {
          "base_uri": "https://localhost:8080/",
          "height": 35
        },
        "outputId": "a5743dce-19fa-484c-a002-b4a1a547a71c"
      },
      "source": [
        "(x, y) == a"
      ],
      "execution_count": 53,
      "outputs": [
        {
          "output_type": "execute_result",
          "data": {
            "text/plain": [
              "False"
            ]
          },
          "metadata": {
            "tags": []
          },
          "execution_count": 53
        }
      ]
    },
    {
      "cell_type": "markdown",
      "metadata": {
        "id": "8cNA4wrLw_v7",
        "colab_type": "text"
      },
      "source": [
        ""
      ]
    },
    {
      "cell_type": "markdown",
      "metadata": {
        "id": "vlRKIkP7wtfB",
        "colab_type": "text"
      },
      "source": [
        "#### Answer:"
      ]
    },
    {
      "cell_type": "markdown",
      "metadata": {
        "id": "l9KWcvO8wYfA",
        "colab_type": "text"
      },
      "source": [
        "**Different types: tuple and list, we can not compare them!**"
      ]
    },
    {
      "cell_type": "markdown",
      "metadata": {
        "id": "JCTXsuY9wON_",
        "colab_type": "text"
      },
      "source": [
        "#### One more:"
      ]
    },
    {
      "cell_type": "code",
      "metadata": {
        "id": "cJMIyiD9wJ_8",
        "colab_type": "code",
        "colab": {
          "base_uri": "https://localhost:8080/",
          "height": 35
        },
        "outputId": "33d00fd2-664f-42c5-bc02-4ea958225790"
      },
      "source": [
        "[1,2,3] == sorted([1,2,3])"
      ],
      "execution_count": 62,
      "outputs": [
        {
          "output_type": "execute_result",
          "data": {
            "text/plain": [
              "True"
            ]
          },
          "metadata": {
            "tags": []
          },
          "execution_count": 62
        }
      ]
    },
    {
      "cell_type": "code",
      "metadata": {
        "id": "e8Qe9p6PwLYo",
        "colab_type": "code",
        "colab": {
          "base_uri": "https://localhost:8080/",
          "height": 35
        },
        "outputId": "3f50c87b-0979-4447-f140-6e8d0ee55f26"
      },
      "source": [
        "(1,2,3) == sorted((1,2,3))"
      ],
      "execution_count": 63,
      "outputs": [
        {
          "output_type": "execute_result",
          "data": {
            "text/plain": [
              "False"
            ]
          },
          "metadata": {
            "tags": []
          },
          "execution_count": 63
        }
      ]
    },
    {
      "cell_type": "markdown",
      "metadata": {
        "id": "kRnaRoVY2dv9",
        "colab_type": "text"
      },
      "source": [
        "#### Answer:"
      ]
    },
    {
      "cell_type": "markdown",
      "metadata": {
        "id": "L0veTRP02fd5",
        "colab_type": "text"
      },
      "source": [
        "**Again different types! sorted(...) returns list, meanwhile (1, 2, 3) is tuple!**"
      ]
    },
    {
      "cell_type": "markdown",
      "metadata": {
        "id": "k8IBP1u72ff1",
        "colab_type": "text"
      },
      "source": [
        "#### Continue with sorting:"
      ]
    },
    {
      "cell_type": "code",
      "metadata": {
        "id": "Swlrar0yxfyq",
        "colab_type": "code",
        "colab": {
          "base_uri": "https://localhost:8080/",
          "height": 35
        },
        "outputId": "14a2f14b-ec1a-4d03-8307-0fb4831a074c"
      },
      "source": [
        "a = (2, 1, 3)\n",
        "sorted(a) == sorted(a)"
      ],
      "execution_count": 78,
      "outputs": [
        {
          "output_type": "execute_result",
          "data": {
            "text/plain": [
              "True"
            ]
          },
          "metadata": {
            "tags": []
          },
          "execution_count": 78
        }
      ]
    },
    {
      "cell_type": "code",
      "metadata": {
        "id": "ut8z4IObxp7Y",
        "colab_type": "code",
        "colab": {
          "base_uri": "https://localhost:8080/",
          "height": 35
        },
        "cellView": "both",
        "outputId": "c8165c7e-2d62-453d-a3a7-dac0ff48e75f"
      },
      "source": [
        "reversed(a) == reversed(a)"
      ],
      "execution_count": 88,
      "outputs": [
        {
          "output_type": "execute_result",
          "data": {
            "text/plain": [
              "False"
            ]
          },
          "metadata": {
            "tags": []
          },
          "execution_count": 88
        }
      ]
    },
    {
      "cell_type": "markdown",
      "metadata": {
        "id": "r6-9MbRz3Xrf",
        "colab_type": "text"
      },
      "source": [
        "#### Answer"
      ]
    },
    {
      "cell_type": "markdown",
      "metadata": {
        "id": "WyLr4GNQ3Ztq",
        "colab_type": "text"
      },
      "source": [
        "**reversed(...) returns an iterator. One iterator is not equal to another iterator**"
      ]
    },
    {
      "cell_type": "markdown",
      "metadata": {
        "id": "jb2gX2jO5IO5",
        "colab_type": "text"
      },
      "source": [
        "#### Continue with reversed:"
      ]
    },
    {
      "cell_type": "code",
      "metadata": {
        "id": "AuCtdwpmx87a",
        "colab_type": "code",
        "colab": {
          "base_uri": "https://localhost:8080/",
          "height": 35
        },
        "outputId": "8c646c25-2dc7-4e03-8aaf-60a38300427e"
      },
      "source": [
        "b = reversed(a)\n",
        "sorted(b) == sorted(b)"
      ],
      "execution_count": 89,
      "outputs": [
        {
          "output_type": "execute_result",
          "data": {
            "text/plain": [
              "False"
            ]
          },
          "metadata": {
            "tags": []
          },
          "execution_count": 89
        }
      ]
    },
    {
      "cell_type": "markdown",
      "metadata": {
        "id": "HCWwEpzZ7PUm",
        "colab_type": "text"
      },
      "source": [
        "#### Answer"
      ]
    },
    {
      "cell_type": "markdown",
      "metadata": {
        "id": "WRFmKnhh7SLx",
        "colab_type": "text"
      },
      "source": [
        "**reversed(...) returns iterator, sorted(...) calls this iterator and at first call reversed(...) returns expected list, however on second call it returns empty list because it has already returned everything during first call**"
      ]
    },
    {
      "cell_type": "markdown",
      "metadata": {
        "id": "NpnPKeGE8FQM",
        "colab_type": "text"
      },
      "source": [
        "### 4. extend vs +="
      ]
    },
    {
      "cell_type": "code",
      "metadata": {
        "id": "clX2r40d9Qk0",
        "colab_type": "code",
        "colab": {
          "base_uri": "https://localhost:8080/",
          "height": 35
        },
        "outputId": "9dbbf021-854b-4217-fee7-5174425b3609"
      },
      "source": [
        "a = ([],)\n",
        "a[0].extend([1])\n",
        "a"
      ],
      "execution_count": 138,
      "outputs": [
        {
          "output_type": "execute_result",
          "data": {
            "text/plain": [
              "([1],)"
            ]
          },
          "metadata": {
            "tags": []
          },
          "execution_count": 138
        }
      ]
    },
    {
      "cell_type": "code",
      "metadata": {
        "id": "B3zL2epK9lTa",
        "colab_type": "code",
        "colab": {
          "base_uri": "https://localhost:8080/",
          "height": 166
        },
        "outputId": "cd2b19aa-d4d8-430b-f482-cc05e4417963"
      },
      "source": [
        "a[0] += [2]"
      ],
      "execution_count": 139,
      "outputs": [
        {
          "output_type": "error",
          "ename": "TypeError",
          "evalue": "ignored",
          "traceback": [
            "\u001b[0;31m---------------------------------------------------------------------------\u001b[0m",
            "\u001b[0;31mTypeError\u001b[0m                                 Traceback (most recent call last)",
            "\u001b[0;32m<ipython-input-139-94399e3f4fce>\u001b[0m in \u001b[0;36m<module>\u001b[0;34m()\u001b[0m\n\u001b[0;32m----> 1\u001b[0;31m \u001b[0ma\u001b[0m\u001b[0;34m[\u001b[0m\u001b[0;36m0\u001b[0m\u001b[0;34m]\u001b[0m \u001b[0;34m+=\u001b[0m \u001b[0;34m[\u001b[0m\u001b[0;36m2\u001b[0m\u001b[0;34m]\u001b[0m\u001b[0;34m\u001b[0m\u001b[0;34m\u001b[0m\u001b[0m\n\u001b[0m",
            "\u001b[0;31mTypeError\u001b[0m: 'tuple' object does not support item assignment"
          ]
        }
      ]
    },
    {
      "cell_type": "code",
      "metadata": {
        "id": "Z9v3PrrpAXbu",
        "colab_type": "code",
        "colab": {
          "base_uri": "https://localhost:8080/",
          "height": 35
        },
        "outputId": "35684ee6-3bff-4bde-b4a2-c99ca3382b6c"
      },
      "source": [
        "a"
      ],
      "execution_count": 140,
      "outputs": [
        {
          "output_type": "execute_result",
          "data": {
            "text/plain": [
              "([1, 2],)"
            ]
          },
          "metadata": {
            "tags": []
          },
          "execution_count": 140
        }
      ]
    },
    {
      "cell_type": "markdown",
      "metadata": {
        "id": "h9HnR9Ci99DK",
        "colab_type": "text"
      },
      "source": [
        "#### Answer"
      ]
    },
    {
      "cell_type": "markdown",
      "metadata": {
        "id": "wFhYp-SA-Cii",
        "colab_type": "text"
      },
      "source": [
        "+= is quivalent to:\n",
        "```\n",
        "result = a_list.__iadd__([1]) # same as calling extend \n",
        "a_list = result\n",
        "```\n",
        "\n",
        "\n",
        "Source: https://docs.python.org/3/faq/programming.html#why-does-a-tuple-i-item-raise-an-exception-when-the-addition-works"
      ]
    },
    {
      "cell_type": "markdown",
      "metadata": {
        "id": "iM-TtHnMaL4o",
        "colab_type": "text"
      },
      "source": [
        "### 5.All and emptiness"
      ]
    },
    {
      "cell_type": "code",
      "metadata": {
        "id": "8EGmqMi7aaCV",
        "colab_type": "code",
        "colab": {
          "base_uri": "https://localhost:8080/",
          "height": 35
        },
        "outputId": "ac0834a6-5628-4255-fdd2-d69e1bddeaf2"
      },
      "source": [
        "all([True, True, True, True, True])"
      ],
      "execution_count": 146,
      "outputs": [
        {
          "output_type": "execute_result",
          "data": {
            "text/plain": [
              "True"
            ]
          },
          "metadata": {
            "tags": []
          },
          "execution_count": 146
        }
      ]
    },
    {
      "cell_type": "code",
      "metadata": {
        "id": "MqThyEmSac8D",
        "colab_type": "code",
        "colab": {
          "base_uri": "https://localhost:8080/",
          "height": 35
        },
        "outputId": "768c9763-c436-452f-dd01-abcc5b7d9d43"
      },
      "source": [
        "all([False, True, True, True, True])"
      ],
      "execution_count": 147,
      "outputs": [
        {
          "output_type": "execute_result",
          "data": {
            "text/plain": [
              "False"
            ]
          },
          "metadata": {
            "tags": []
          },
          "execution_count": 147
        }
      ]
    },
    {
      "cell_type": "code",
      "metadata": {
        "id": "UeKpEFynaS2X",
        "colab_type": "code",
        "colab": {
          "base_uri": "https://localhost:8080/",
          "height": 35
        },
        "outputId": "d92ddfe9-fad7-4df2-d89a-b7fa2f16b6bd"
      },
      "source": [
        "all([])"
      ],
      "execution_count": 148,
      "outputs": [
        {
          "output_type": "execute_result",
          "data": {
            "text/plain": [
              "True"
            ]
          },
          "metadata": {
            "tags": []
          },
          "execution_count": 148
        }
      ]
    },
    {
      "cell_type": "code",
      "metadata": {
        "id": "6gjE54KQaVNv",
        "colab_type": "code",
        "colab": {
          "base_uri": "https://localhost:8080/",
          "height": 35
        },
        "outputId": "1630ffec-c283-4a2d-dcfb-a20b3c080234"
      },
      "source": [
        "all([[]])"
      ],
      "execution_count": 149,
      "outputs": [
        {
          "output_type": "execute_result",
          "data": {
            "text/plain": [
              "False"
            ]
          },
          "metadata": {
            "tags": []
          },
          "execution_count": 149
        }
      ]
    },
    {
      "cell_type": "code",
      "metadata": {
        "id": "oGIglGmoaVS2",
        "colab_type": "code",
        "colab": {
          "base_uri": "https://localhost:8080/",
          "height": 35
        },
        "outputId": "69a9b7b3-80e3-407e-acf3-07fe1da5a73e"
      },
      "source": [
        "all([[[]]])"
      ],
      "execution_count": 150,
      "outputs": [
        {
          "output_type": "execute_result",
          "data": {
            "text/plain": [
              "True"
            ]
          },
          "metadata": {
            "tags": []
          },
          "execution_count": 150
        }
      ]
    },
    {
      "cell_type": "code",
      "metadata": {
        "id": "SF9kqXu4amZn",
        "colab_type": "code",
        "colab": {
          "base_uri": "https://localhost:8080/",
          "height": 35
        },
        "outputId": "cfdd4203-96aa-4fb9-da18-f04a510fdccf"
      },
      "source": [
        "all([[[[]]]])"
      ],
      "execution_count": 151,
      "outputs": [
        {
          "output_type": "execute_result",
          "data": {
            "text/plain": [
              "True"
            ]
          },
          "metadata": {
            "tags": []
          },
          "execution_count": 151
        }
      ]
    },
    {
      "cell_type": "markdown",
      "metadata": {
        "id": "ovJeVtJIamhT",
        "colab_type": "text"
      },
      "source": [
        "#### Answer"
      ]
    },
    {
      "cell_type": "markdown",
      "metadata": {
        "id": "JwMWvMEfbzvG",
        "colab_type": "text"
      },
      "source": [
        "all(...) applies bool(...) to every element that is fed inside, for example `all([[]])` is equivalent to `all([bool([])])` \n",
        "\n",
        "Let's see in python:"
      ]
    },
    {
      "cell_type": "code",
      "metadata": {
        "id": "T1oe3hsocLtK",
        "colab_type": "code",
        "colab": {
          "base_uri": "https://localhost:8080/",
          "height": 35
        },
        "outputId": "71acee64-6e1c-4452-f01d-aa16df3327ed"
      },
      "source": [
        "bool([]) # => construction all([[]]) is equivalent to all([False]) what is by definition False"
      ],
      "execution_count": 169,
      "outputs": [
        {
          "output_type": "execute_result",
          "data": {
            "text/plain": [
              "False"
            ]
          },
          "metadata": {
            "tags": []
          },
          "execution_count": 169
        }
      ]
    },
    {
      "cell_type": "markdown",
      "metadata": {
        "id": "OGbIIYUkew3S",
        "colab_type": "text"
      },
      "source": [
        "Meanwhile `all([[[]]])` is equivalent to `all([bool([[]])])`"
      ]
    },
    {
      "cell_type": "code",
      "metadata": {
        "id": "i_WkVChxcOLm",
        "colab_type": "code",
        "colab": {
          "base_uri": "https://localhost:8080/",
          "height": 35
        },
        "outputId": "7cdcc750-a485-4724-d96d-504707cde327"
      },
      "source": [
        "bool([[]]) # because bool([]) = False and bool([False]) = True"
      ],
      "execution_count": 170,
      "outputs": [
        {
          "output_type": "execute_result",
          "data": {
            "text/plain": [
              "True"
            ]
          },
          "metadata": {
            "tags": []
          },
          "execution_count": 170
        }
      ]
    },
    {
      "cell_type": "markdown",
      "metadata": {
        "id": "wpNfpWiPc8t6",
        "colab_type": "text"
      },
      "source": [
        "Thus construction `all([[[]]])` is the same as `all([True])` what is True by defenition"
      ]
    },
    {
      "cell_type": "markdown",
      "metadata": {
        "id": "oaYtWM6eib9l",
        "colab_type": "text"
      },
      "source": [
        "### 6. Sum"
      ]
    },
    {
      "cell_type": "code",
      "metadata": {
        "id": "f_I-_O1ki6e0",
        "colab_type": "code",
        "colab": {
          "base_uri": "https://localhost:8080/",
          "height": 35
        },
        "outputId": "e075adb8-505a-44b8-a6ef-1761fa0a0dea"
      },
      "source": [
        "sum(\"\")"
      ],
      "execution_count": 179,
      "outputs": [
        {
          "output_type": "execute_result",
          "data": {
            "text/plain": [
              "0"
            ]
          },
          "metadata": {
            "tags": []
          },
          "execution_count": 179
        }
      ]
    },
    {
      "cell_type": "code",
      "metadata": {
        "id": "XwX0Brjoi6eJ",
        "colab_type": "code",
        "colab": {
          "base_uri": "https://localhost:8080/",
          "height": 35
        },
        "outputId": "0ed2ca2b-2337-49c5-b6b6-73526969d340"
      },
      "source": [
        "sum(\"\", ())"
      ],
      "execution_count": 180,
      "outputs": [
        {
          "output_type": "execute_result",
          "data": {
            "text/plain": [
              "()"
            ]
          },
          "metadata": {
            "tags": []
          },
          "execution_count": 180
        }
      ]
    },
    {
      "cell_type": "code",
      "metadata": {
        "id": "q-AudVVni9Mk",
        "colab_type": "code",
        "colab": {
          "base_uri": "https://localhost:8080/",
          "height": 35
        },
        "outputId": "2096a840-812d-442e-df43-6d06914c6224"
      },
      "source": [
        "sum(\"\", [])"
      ],
      "execution_count": 181,
      "outputs": [
        {
          "output_type": "execute_result",
          "data": {
            "text/plain": [
              "[]"
            ]
          },
          "metadata": {
            "tags": []
          },
          "execution_count": 181
        }
      ]
    },
    {
      "cell_type": "code",
      "metadata": {
        "id": "3T41wcQ3i9O_",
        "colab_type": "code",
        "colab": {
          "base_uri": "https://localhost:8080/",
          "height": 35
        },
        "outputId": "a95a54bb-5970-48da-ca92-a6f046ee8f6c"
      },
      "source": [
        "sum(\"\", {})"
      ],
      "execution_count": 182,
      "outputs": [
        {
          "output_type": "execute_result",
          "data": {
            "text/plain": [
              "{}"
            ]
          },
          "metadata": {
            "tags": []
          },
          "execution_count": 182
        }
      ]
    },
    {
      "cell_type": "code",
      "metadata": {
        "id": "l8WKHafrizHM",
        "colab_type": "code",
        "colab": {
          "base_uri": "https://localhost:8080/",
          "height": 166
        },
        "outputId": "70d83319-b8dd-42d3-a177-dd3808966420"
      },
      "source": [
        "sum(\"\", \"\")"
      ],
      "execution_count": 183,
      "outputs": [
        {
          "output_type": "error",
          "ename": "TypeError",
          "evalue": "ignored",
          "traceback": [
            "\u001b[0;31m---------------------------------------------------------------------------\u001b[0m",
            "\u001b[0;31mTypeError\u001b[0m                                 Traceback (most recent call last)",
            "\u001b[0;32m<ipython-input-183-139890df16f7>\u001b[0m in \u001b[0;36m<module>\u001b[0;34m()\u001b[0m\n\u001b[0;32m----> 1\u001b[0;31m \u001b[0msum\u001b[0m\u001b[0;34m(\u001b[0m\u001b[0;34m\"\"\u001b[0m\u001b[0;34m,\u001b[0m \u001b[0;34m\"\"\u001b[0m\u001b[0;34m)\u001b[0m\u001b[0;34m\u001b[0m\u001b[0;34m\u001b[0m\u001b[0m\n\u001b[0m",
            "\u001b[0;31mTypeError\u001b[0m: sum() can't sum strings [use ''.join(seq) instead]"
          ]
        }
      ]
    },
    {
      "cell_type": "markdown",
      "metadata": {
        "id": "V-Q-hE4P2ztz",
        "colab_type": "text"
      },
      "source": [
        "## 1. Зависимость по ссылкам dependency"
      ]
    },
    {
      "cell_type": "code",
      "metadata": {
        "id": "PNzsmwjrvKzv",
        "colab_type": "code",
        "colab": {
          "base_uri": "https://localhost:8080/",
          "height": 35
        },
        "outputId": "21cd9c0f-6529-43ca-c94b-6636632e102d"
      },
      "source": [
        "one = [1, 2]\n",
        "two = [one, one]\n",
        "one[1] = 100\n",
        "two"
      ],
      "execution_count": 50,
      "outputs": [
        {
          "output_type": "execute_result",
          "data": {
            "text/plain": [
              "[[1, 100], [1, 100]]"
            ]
          },
          "metadata": {
            "tags": []
          },
          "execution_count": 50
        }
      ]
    },
    {
      "cell_type": "code",
      "metadata": {
        "id": "VWJsKjxn2zt1",
        "colab_type": "code",
        "outputId": "34066682-ac57-4791-85e6-ad7e5eb19ceb",
        "colab": {}
      },
      "source": [
        "expected = [ [9],[0] ]\n",
        "unexpected = [ [9],[9] ]\n",
        "basic = [ [0],[0] ]\n",
        "basic[0][0] = 9\n",
        "print(basic == expected) # this is true"
      ],
      "execution_count": 0,
      "outputs": [
        {
          "output_type": "stream",
          "text": [
            "True\n"
          ],
          "name": "stdout"
        }
      ]
    },
    {
      "cell_type": "code",
      "metadata": {
        "id": "Zp7WVK_I2zuD",
        "colab_type": "code",
        "outputId": "111d9580-29fa-4384-c906-5a0f2f015521",
        "colab": {}
      },
      "source": [
        "l = [0]\n",
        "modified = [ l, l ]\n",
        "modified[0][0] = 9\n",
        "print(modified == expected) # this is false\n",
        "print(modified == unexpected) # this is true"
      ],
      "execution_count": 0,
      "outputs": [
        {
          "output_type": "stream",
          "text": [
            "False\n",
            "True\n"
          ],
          "name": "stdout"
        }
      ]
    },
    {
      "cell_type": "code",
      "metadata": {
        "id": "5ZpMftdz2zuN",
        "colab_type": "code",
        "outputId": "cf4e02b8-2e6e-4bfa-84ed-e733309c18c8",
        "colab": {}
      },
      "source": [
        "modified"
      ],
      "execution_count": 0,
      "outputs": [
        {
          "output_type": "execute_result",
          "data": {
            "text/plain": [
              "[[9], [9]]"
            ]
          },
          "metadata": {
            "tags": []
          },
          "execution_count": 42
        }
      ]
    },
    {
      "cell_type": "markdown",
      "metadata": {
        "id": "PfKrtyWg2zuW",
        "colab_type": "text"
      },
      "source": [
        "## Fast Quiz!"
      ]
    },
    {
      "cell_type": "code",
      "metadata": {
        "id": "2Z44Qj1G2zua",
        "colab_type": "code",
        "colab": {
          "base_uri": "https://localhost:8080/",
          "height": 35
        },
        "outputId": "e2daa01c-cfb4-4f20-8b01-ec7826f2a4fb"
      },
      "source": [
        "x, y = 'a', 'b'\n",
        "x+y"
      ],
      "execution_count": 184,
      "outputs": [
        {
          "output_type": "execute_result",
          "data": {
            "text/plain": [
              "'ab'"
            ]
          },
          "metadata": {
            "tags": []
          },
          "execution_count": 184
        }
      ]
    },
    {
      "cell_type": "code",
      "metadata": {
        "id": "RkHfcefzjLwf",
        "colab_type": "code",
        "colab": {
          "base_uri": "https://localhost:8080/",
          "height": 35
        },
        "outputId": "7df5e2d0-fd48-4575-d755-7f99a8eb9d7f"
      },
      "source": [
        "y+x"
      ],
      "execution_count": 185,
      "outputs": [
        {
          "output_type": "execute_result",
          "data": {
            "text/plain": [
              "'ba'"
            ]
          },
          "metadata": {
            "tags": []
          },
          "execution_count": 185
        }
      ]
    },
    {
      "cell_type": "code",
      "metadata": {
        "id": "fWBhqvIPjMNe",
        "colab_type": "code",
        "colab": {
          "base_uri": "https://localhost:8080/",
          "height": 35
        },
        "outputId": "d8e5db8d-9889-4760-f5c2-039d74b3f838"
      },
      "source": [
        "x+y == y+x"
      ],
      "execution_count": 186,
      "outputs": [
        {
          "output_type": "execute_result",
          "data": {
            "text/plain": [
              "False"
            ]
          },
          "metadata": {
            "tags": []
          },
          "execution_count": 186
        }
      ]
    },
    {
      "cell_type": "code",
      "metadata": {
        "id": "zTaOA39MjN1i",
        "colab_type": "code",
        "colab": {}
      },
      "source": [
        ""
      ],
      "execution_count": 0,
      "outputs": []
    }
  ]
}
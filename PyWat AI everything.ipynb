{
  "nbformat": 4,
  "nbformat_minor": 0,
  "metadata": {
    "kernelspec": {
      "display_name": "Python 3",
      "language": "python",
      "name": "python3"
    },
    "language_info": {
      "codemirror_mode": {
        "name": "ipython",
        "version": 3
      },
      "file_extension": ".py",
      "mimetype": "text/x-python",
      "name": "python",
      "nbconvert_exporter": "python",
      "pygments_lexer": "ipython3",
      "version": "3.7.4"
    },
    "colab": {
      "name": "PyWat AI everything.ipynb",
      "provenance": [],
      "include_colab_link": true
    }
  },
  "cells": [
    {
      "cell_type": "markdown",
      "metadata": {
        "id": "view-in-github",
        "colab_type": "text"
      },
      "source": [
        "<a href=\"https://colab.research.google.com/github/DmitriiDenisov/talks/blob/master/PyWat%20AI%20everything.ipynb\" target=\"_parent\"><img src=\"https://colab.research.google.com/assets/colab-badge.svg\" alt=\"Open In Colab\"/></a>"
      ]
    },
    {
      "cell_type": "markdown",
      "metadata": {
        "id": "WQAYc_RD2ztP",
        "colab_type": "text"
      },
      "source": [
        "## Dmitry Denisov, AI everything"
      ]
    },
    {
      "cell_type": "markdown",
      "metadata": {
        "id": "ZlvxLu9k2ztU",
        "colab_type": "text"
      },
      "source": [
        "### Open Data Science meetup"
      ]
    },
    {
      "cell_type": "markdown",
      "metadata": {
        "id": "CY-dcTcg2ztZ",
        "colab_type": "text"
      },
      "source": [
        "#### Source: https://github.com/cosmologicon/pywat"
      ]
    },
    {
      "cell_type": "code",
      "metadata": {
        "id": "uieQT4Oe2zte",
        "colab_type": "code",
        "colab": {},
        "outputId": "60f748ed-077a-48bc-bb24-3fe8781bd27f"
      },
      "source": [
        "from platform import python_version\n",
        "print(python_version())"
      ],
      "execution_count": 0,
      "outputs": [
        {
          "output_type": "stream",
          "text": [
            "3.7.4\n"
          ],
          "name": "stdout"
        }
      ]
    },
    {
      "cell_type": "markdown",
      "metadata": {
        "id": "jbmxgN8K2ztu",
        "colab_type": "text"
      },
      "source": [
        "What is PYWAT?? It is python wat"
      ]
    },
    {
      "cell_type": "markdown",
      "metadata": {
        "id": "V-Q-hE4P2ztz",
        "colab_type": "text"
      },
      "source": [
        "## 1. Зависимость по ссылкам dependency"
      ]
    },
    {
      "cell_type": "code",
      "metadata": {
        "id": "VWJsKjxn2zt1",
        "colab_type": "code",
        "colab": {},
        "outputId": "34066682-ac57-4791-85e6-ad7e5eb19ceb"
      },
      "source": [
        "expected = [ [9],[0] ]\n",
        "unexpected = [ [9],[9] ]\n",
        "basic = [ [0],[0] ]\n",
        "basic[0][0] = 9\n",
        "print(basic == expected) # this is true"
      ],
      "execution_count": 0,
      "outputs": [
        {
          "output_type": "stream",
          "text": [
            "True\n"
          ],
          "name": "stdout"
        }
      ]
    },
    {
      "cell_type": "code",
      "metadata": {
        "id": "Zp7WVK_I2zuD",
        "colab_type": "code",
        "colab": {},
        "outputId": "111d9580-29fa-4384-c906-5a0f2f015521"
      },
      "source": [
        "l = [0]\n",
        "modified = [ l, l ]\n",
        "modified[0][0] = 9\n",
        "print(modified == expected) # this is false\n",
        "print(modified == unexpected) # this is true"
      ],
      "execution_count": 0,
      "outputs": [
        {
          "output_type": "stream",
          "text": [
            "False\n",
            "True\n"
          ],
          "name": "stdout"
        }
      ]
    },
    {
      "cell_type": "code",
      "metadata": {
        "id": "5ZpMftdz2zuN",
        "colab_type": "code",
        "colab": {},
        "outputId": "cf4e02b8-2e6e-4bfa-84ed-e733309c18c8"
      },
      "source": [
        "modified"
      ],
      "execution_count": 0,
      "outputs": [
        {
          "output_type": "execute_result",
          "data": {
            "text/plain": [
              "[[9], [9]]"
            ]
          },
          "metadata": {
            "tags": []
          },
          "execution_count": 42
        }
      ]
    },
    {
      "cell_type": "markdown",
      "metadata": {
        "id": "PfKrtyWg2zuW",
        "colab_type": "text"
      },
      "source": [
        "## Fast Quiz!"
      ]
    },
    {
      "cell_type": "code",
      "metadata": {
        "id": "2Z44Qj1G2zua",
        "colab_type": "code",
        "colab": {}
      },
      "source": [
        ""
      ],
      "execution_count": 0,
      "outputs": []
    }
  ]
}
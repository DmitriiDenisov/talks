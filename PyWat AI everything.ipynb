{
  "nbformat": 4,
  "nbformat_minor": 0,
  "metadata": {
    "kernelspec": {
      "name": "python3",
      "display_name": "Python 3"
    },
    "colab": {
      "name": "PyWat AI everything.ipynb",
      "provenance": [],
      "include_colab_link": true
    }
  },
  "cells": [
    {
      "cell_type": "markdown",
      "metadata": {
        "id": "view-in-github",
        "colab_type": "text"
      },
      "source": [
        "<a href=\"https://colab.research.google.com/github/DmitriiDenisov/talks/blob/master/PyWat%20AI%20everything.ipynb\" target=\"_parent\"><img src=\"https://colab.research.google.com/assets/colab-badge.svg\" alt=\"Open In Colab\"/></a>"
      ]
    },
    {
      "cell_type": "markdown",
      "metadata": {
        "id": "WQAYc_RD2ztP",
        "colab_type": "text"
      },
      "source": [
        "## Dmitry Denisov, AI everything"
      ]
    },
    {
      "cell_type": "markdown",
      "metadata": {
        "id": "ZlvxLu9k2ztU",
        "colab_type": "text"
      },
      "source": [
        "### Open Data Science meetup"
      ]
    },
    {
      "cell_type": "markdown",
      "metadata": {
        "id": "CY-dcTcg2ztZ",
        "colab_type": "text"
      },
      "source": [
        "**Sources:**\n",
        "\n",
        "https://github.com/cosmologicon/pywat\n",
        "\n",
        "https://www.youtube.com/watch?v=sH4XF6pKKmk&list=WL&index=9&t=491s\n",
        "\n",
        "https://www.reddit.com/r/programming/comments/3obd4a/python_wats/\n",
        "\n"
      ]
    },
    {
      "cell_type": "code",
      "metadata": {
        "id": "uieQT4Oe2zte",
        "colab_type": "code",
        "outputId": "16ad481f-12f9-4c2e-b11e-6045e3f0a80c",
        "colab": {
          "base_uri": "https://localhost:8080/",
          "height": 35
        }
      },
      "source": [
        "from platform import python_version\n",
        "print(python_version())"
      ],
      "execution_count": 0,
      "outputs": [
        {
          "output_type": "stream",
          "text": [
            "3.6.9\n"
          ],
          "name": "stdout"
        }
      ]
    },
    {
      "cell_type": "markdown",
      "metadata": {
        "id": "jbmxgN8K2ztu",
        "colab_type": "text"
      },
      "source": [
        "What is PYWAT?? It is python wat"
      ]
    },
    {
      "cell_type": "markdown",
      "metadata": {
        "id": "VQyfeAB08TYI",
        "colab_type": "text"
      },
      "source": [
        "### 1. Different types:"
      ]
    },
    {
      "cell_type": "code",
      "metadata": {
        "id": "pikKKrZZ8YiW",
        "colab_type": "code",
        "outputId": "f7870ea4-af18-4b1d-89d6-cf67fc6278c6",
        "colab": {
          "base_uri": "https://localhost:8080/",
          "height": 35
        }
      },
      "source": [
        "type(1) == type(-1)"
      ],
      "execution_count": 0,
      "outputs": [
        {
          "output_type": "execute_result",
          "data": {
            "text/plain": [
              "True"
            ]
          },
          "metadata": {
            "tags": []
          },
          "execution_count": 95
        }
      ]
    },
    {
      "cell_type": "code",
      "metadata": {
        "id": "BwyIL5558drK",
        "colab_type": "code",
        "outputId": "3727bbb2-9a37-4779-f2b1-02ce100fb27c",
        "colab": {
          "base_uri": "https://localhost:8080/",
          "height": 35
        }
      },
      "source": [
        "1 ** 1 == 1 ** -1"
      ],
      "execution_count": 0,
      "outputs": [
        {
          "output_type": "execute_result",
          "data": {
            "text/plain": [
              "True"
            ]
          },
          "metadata": {
            "tags": []
          },
          "execution_count": 96
        }
      ]
    },
    {
      "cell_type": "code",
      "metadata": {
        "id": "vGNAOqiH8duB",
        "colab_type": "code",
        "outputId": "ac1c3f40-0247-4991-806b-dc5f17ec6fd4",
        "colab": {
          "base_uri": "https://localhost:8080/",
          "height": 35
        }
      },
      "source": [
        "type(1 ** 1) == type(1 ** -1)"
      ],
      "execution_count": 0,
      "outputs": [
        {
          "output_type": "execute_result",
          "data": {
            "text/plain": [
              "False"
            ]
          },
          "metadata": {
            "tags": []
          },
          "execution_count": 97
        }
      ]
    },
    {
      "cell_type": "markdown",
      "metadata": {
        "id": "-PaKT2PX8qJh",
        "colab_type": "text"
      },
      "source": [
        "#### Answer"
      ]
    },
    {
      "cell_type": "markdown",
      "metadata": {
        "id": "8k4F7OYC8wWl",
        "colab_type": "text"
      },
      "source": [
        "**type(1 ** 1) is int meanwhile type(1 ** -1) is float**"
      ]
    },
    {
      "cell_type": "markdown",
      "metadata": {
        "id": "bWppSnJNqHMn",
        "colab_type": "text"
      },
      "source": [
        "### 2. Operator precedence?"
      ]
    },
    {
      "cell_type": "code",
      "metadata": {
        "id": "XwiX-aT3ibBh",
        "colab_type": "code",
        "outputId": "4cc1dfc8-ff9c-4288-d685-b57ad89fa6de",
        "colab": {
          "base_uri": "https://localhost:8080/",
          "height": 35
        }
      },
      "source": [
        "(False == False) in [False]"
      ],
      "execution_count": 0,
      "outputs": [
        {
          "output_type": "execute_result",
          "data": {
            "text/plain": [
              "False"
            ]
          },
          "metadata": {
            "tags": []
          },
          "execution_count": 6
        }
      ]
    },
    {
      "cell_type": "code",
      "metadata": {
        "id": "S9JMFU_1ibD_",
        "colab_type": "code",
        "outputId": "395d6b46-8be5-47ff-8b03-6c82b37828fb",
        "colab": {
          "base_uri": "https://localhost:8080/",
          "height": 35
        }
      },
      "source": [
        "False == (False in [False])"
      ],
      "execution_count": 0,
      "outputs": [
        {
          "output_type": "execute_result",
          "data": {
            "text/plain": [
              "False"
            ]
          },
          "metadata": {
            "tags": []
          },
          "execution_count": 4
        }
      ]
    },
    {
      "cell_type": "code",
      "metadata": {
        "id": "TWFVGIuyjXN5",
        "colab_type": "code",
        "outputId": "e55d5436-b71b-46fc-9c4a-f4ca86add65d",
        "colab": {
          "base_uri": "https://localhost:8080/",
          "height": 35
        }
      },
      "source": [
        "False == False in [False]"
      ],
      "execution_count": 0,
      "outputs": [
        {
          "output_type": "execute_result",
          "data": {
            "text/plain": [
              "True"
            ]
          },
          "metadata": {
            "tags": []
          },
          "execution_count": 11
        }
      ]
    },
    {
      "cell_type": "code",
      "metadata": {
        "id": "HA-Ywd01ibLg",
        "colab_type": "code",
        "outputId": "4766697f-b89a-47a6-9be1-c26a3a2991be",
        "colab": {
          "base_uri": "https://localhost:8080/",
          "height": 35
        }
      },
      "source": [
        "1 in [1,2] == True"
      ],
      "execution_count": 0,
      "outputs": [
        {
          "output_type": "execute_result",
          "data": {
            "text/plain": [
              "False"
            ]
          },
          "metadata": {
            "tags": []
          },
          "execution_count": 16
        }
      ]
    },
    {
      "cell_type": "markdown",
      "metadata": {
        "id": "OkSpdoH_86nW",
        "colab_type": "text"
      },
      "source": [
        "#### Answer"
      ]
    },
    {
      "cell_type": "markdown",
      "metadata": {
        "id": "L5rmJ2LRpxMD",
        "colab_type": "text"
      },
      "source": [
        "**Neither the == nor the in happens first. They're both comparison operators,with the same precedence, so they're chained. The line is equivalent to False == False and False in [False], which is True**\n",
        "\n",
        "Source: https://stackoverflow.com/questions/31354429/why-is-true-is-false-false-false-in-python"
      ]
    },
    {
      "cell_type": "markdown",
      "metadata": {
        "id": "PjJfAJqvqKPG",
        "colab_type": "text"
      },
      "source": [
        "### 3. Types in comparisons"
      ]
    },
    {
      "cell_type": "code",
      "metadata": {
        "id": "nbuDdiz4qNo7",
        "colab_type": "code",
        "colab": {}
      },
      "source": [
        "a = [0, 0]\n",
        "(x, y) = a"
      ],
      "execution_count": 0,
      "outputs": []
    },
    {
      "cell_type": "code",
      "metadata": {
        "id": "48OKPpYHvPMI",
        "colab_type": "code",
        "outputId": "218fc725-57a4-4e50-8cdf-fa0e388b5eab",
        "colab": {
          "base_uri": "https://localhost:8080/",
          "height": 52
        }
      },
      "source": [
        "print(x)\n",
        "print(y)"
      ],
      "execution_count": 0,
      "outputs": [
        {
          "output_type": "stream",
          "text": [
            "0\n",
            "0\n"
          ],
          "name": "stdout"
        }
      ]
    },
    {
      "cell_type": "code",
      "metadata": {
        "id": "oemcqCr8qN2F",
        "colab_type": "code",
        "outputId": "a5743dce-19fa-484c-a002-b4a1a547a71c",
        "colab": {
          "base_uri": "https://localhost:8080/",
          "height": 35
        }
      },
      "source": [
        "(x, y) == a"
      ],
      "execution_count": 0,
      "outputs": [
        {
          "output_type": "execute_result",
          "data": {
            "text/plain": [
              "False"
            ]
          },
          "metadata": {
            "tags": []
          },
          "execution_count": 53
        }
      ]
    },
    {
      "cell_type": "markdown",
      "metadata": {
        "id": "8cNA4wrLw_v7",
        "colab_type": "text"
      },
      "source": [
        ""
      ]
    },
    {
      "cell_type": "markdown",
      "metadata": {
        "id": "vlRKIkP7wtfB",
        "colab_type": "text"
      },
      "source": [
        "#### Answer:"
      ]
    },
    {
      "cell_type": "markdown",
      "metadata": {
        "id": "l9KWcvO8wYfA",
        "colab_type": "text"
      },
      "source": [
        "**Different types: tuple and list, we can not compare them!**"
      ]
    },
    {
      "cell_type": "markdown",
      "metadata": {
        "id": "JCTXsuY9wON_",
        "colab_type": "text"
      },
      "source": [
        "#### One more:"
      ]
    },
    {
      "cell_type": "code",
      "metadata": {
        "id": "cJMIyiD9wJ_8",
        "colab_type": "code",
        "outputId": "33d00fd2-664f-42c5-bc02-4ea958225790",
        "colab": {
          "base_uri": "https://localhost:8080/",
          "height": 35
        }
      },
      "source": [
        "[1,2,3] == sorted([1,2,3])"
      ],
      "execution_count": 0,
      "outputs": [
        {
          "output_type": "execute_result",
          "data": {
            "text/plain": [
              "True"
            ]
          },
          "metadata": {
            "tags": []
          },
          "execution_count": 62
        }
      ]
    },
    {
      "cell_type": "code",
      "metadata": {
        "id": "e8Qe9p6PwLYo",
        "colab_type": "code",
        "outputId": "3f50c87b-0979-4447-f140-6e8d0ee55f26",
        "colab": {
          "base_uri": "https://localhost:8080/",
          "height": 35
        }
      },
      "source": [
        "(1,2,3) == sorted((1,2,3))"
      ],
      "execution_count": 0,
      "outputs": [
        {
          "output_type": "execute_result",
          "data": {
            "text/plain": [
              "False"
            ]
          },
          "metadata": {
            "tags": []
          },
          "execution_count": 63
        }
      ]
    },
    {
      "cell_type": "markdown",
      "metadata": {
        "id": "kRnaRoVY2dv9",
        "colab_type": "text"
      },
      "source": [
        "#### Answer:"
      ]
    },
    {
      "cell_type": "markdown",
      "metadata": {
        "id": "L0veTRP02fd5",
        "colab_type": "text"
      },
      "source": [
        "**Again different types! sorted(...) returns list, meanwhile (1, 2, 3) is tuple!**"
      ]
    },
    {
      "cell_type": "markdown",
      "metadata": {
        "id": "k8IBP1u72ff1",
        "colab_type": "text"
      },
      "source": [
        "#### Continue with sorting:"
      ]
    },
    {
      "cell_type": "code",
      "metadata": {
        "id": "Swlrar0yxfyq",
        "colab_type": "code",
        "outputId": "14a2f14b-ec1a-4d03-8307-0fb4831a074c",
        "colab": {
          "base_uri": "https://localhost:8080/",
          "height": 35
        }
      },
      "source": [
        "a = (2, 1, 3)\n",
        "sorted(a) == sorted(a)"
      ],
      "execution_count": 0,
      "outputs": [
        {
          "output_type": "execute_result",
          "data": {
            "text/plain": [
              "True"
            ]
          },
          "metadata": {
            "tags": []
          },
          "execution_count": 78
        }
      ]
    },
    {
      "cell_type": "code",
      "metadata": {
        "id": "ut8z4IObxp7Y",
        "colab_type": "code",
        "cellView": "both",
        "outputId": "c8165c7e-2d62-453d-a3a7-dac0ff48e75f",
        "colab": {
          "base_uri": "https://localhost:8080/",
          "height": 35
        }
      },
      "source": [
        "reversed(a) == reversed(a)"
      ],
      "execution_count": 0,
      "outputs": [
        {
          "output_type": "execute_result",
          "data": {
            "text/plain": [
              "False"
            ]
          },
          "metadata": {
            "tags": []
          },
          "execution_count": 88
        }
      ]
    },
    {
      "cell_type": "markdown",
      "metadata": {
        "id": "r6-9MbRz3Xrf",
        "colab_type": "text"
      },
      "source": [
        "#### Answer"
      ]
    },
    {
      "cell_type": "markdown",
      "metadata": {
        "id": "WyLr4GNQ3Ztq",
        "colab_type": "text"
      },
      "source": [
        "**reversed(...) returns an iterator. One iterator is not equal to another iterator**"
      ]
    },
    {
      "cell_type": "markdown",
      "metadata": {
        "id": "jb2gX2jO5IO5",
        "colab_type": "text"
      },
      "source": [
        "#### Continue with reversed:"
      ]
    },
    {
      "cell_type": "code",
      "metadata": {
        "id": "AuCtdwpmx87a",
        "colab_type": "code",
        "outputId": "8c646c25-2dc7-4e03-8aaf-60a38300427e",
        "colab": {
          "base_uri": "https://localhost:8080/",
          "height": 35
        }
      },
      "source": [
        "b = reversed(a)\n",
        "sorted(b) == sorted(b)"
      ],
      "execution_count": 0,
      "outputs": [
        {
          "output_type": "execute_result",
          "data": {
            "text/plain": [
              "False"
            ]
          },
          "metadata": {
            "tags": []
          },
          "execution_count": 89
        }
      ]
    },
    {
      "cell_type": "markdown",
      "metadata": {
        "id": "HCWwEpzZ7PUm",
        "colab_type": "text"
      },
      "source": [
        "#### Answer"
      ]
    },
    {
      "cell_type": "markdown",
      "metadata": {
        "id": "WRFmKnhh7SLx",
        "colab_type": "text"
      },
      "source": [
        "**reversed(...) returns iterator, sorted(...) calls this iterator and at first call reversed(...) returns expected list, however on second call it returns empty list because it has already returned everything during first call**"
      ]
    },
    {
      "cell_type": "markdown",
      "metadata": {
        "id": "NpnPKeGE8FQM",
        "colab_type": "text"
      },
      "source": [
        "### 4. extend vs +="
      ]
    },
    {
      "cell_type": "code",
      "metadata": {
        "id": "clX2r40d9Qk0",
        "colab_type": "code",
        "outputId": "9dbbf021-854b-4217-fee7-5174425b3609",
        "colab": {
          "base_uri": "https://localhost:8080/",
          "height": 35
        }
      },
      "source": [
        "a = ([],)\n",
        "a[0].extend([1])\n",
        "a"
      ],
      "execution_count": 0,
      "outputs": [
        {
          "output_type": "execute_result",
          "data": {
            "text/plain": [
              "([1],)"
            ]
          },
          "metadata": {
            "tags": []
          },
          "execution_count": 138
        }
      ]
    },
    {
      "cell_type": "code",
      "metadata": {
        "id": "B3zL2epK9lTa",
        "colab_type": "code",
        "outputId": "cd2b19aa-d4d8-430b-f482-cc05e4417963",
        "colab": {
          "base_uri": "https://localhost:8080/",
          "height": 166
        }
      },
      "source": [
        "a[0] += [2]"
      ],
      "execution_count": 0,
      "outputs": [
        {
          "output_type": "error",
          "ename": "TypeError",
          "evalue": "ignored",
          "traceback": [
            "\u001b[0;31m---------------------------------------------------------------------------\u001b[0m",
            "\u001b[0;31mTypeError\u001b[0m                                 Traceback (most recent call last)",
            "\u001b[0;32m<ipython-input-139-94399e3f4fce>\u001b[0m in \u001b[0;36m<module>\u001b[0;34m()\u001b[0m\n\u001b[0;32m----> 1\u001b[0;31m \u001b[0ma\u001b[0m\u001b[0;34m[\u001b[0m\u001b[0;36m0\u001b[0m\u001b[0;34m]\u001b[0m \u001b[0;34m+=\u001b[0m \u001b[0;34m[\u001b[0m\u001b[0;36m2\u001b[0m\u001b[0;34m]\u001b[0m\u001b[0;34m\u001b[0m\u001b[0;34m\u001b[0m\u001b[0m\n\u001b[0m",
            "\u001b[0;31mTypeError\u001b[0m: 'tuple' object does not support item assignment"
          ]
        }
      ]
    },
    {
      "cell_type": "code",
      "metadata": {
        "id": "Z9v3PrrpAXbu",
        "colab_type": "code",
        "outputId": "35684ee6-3bff-4bde-b4a2-c99ca3382b6c",
        "colab": {
          "base_uri": "https://localhost:8080/",
          "height": 35
        }
      },
      "source": [
        "a"
      ],
      "execution_count": 0,
      "outputs": [
        {
          "output_type": "execute_result",
          "data": {
            "text/plain": [
              "([1, 2],)"
            ]
          },
          "metadata": {
            "tags": []
          },
          "execution_count": 140
        }
      ]
    },
    {
      "cell_type": "markdown",
      "metadata": {
        "id": "h9HnR9Ci99DK",
        "colab_type": "text"
      },
      "source": [
        "#### Answer"
      ]
    },
    {
      "cell_type": "markdown",
      "metadata": {
        "id": "wFhYp-SA-Cii",
        "colab_type": "text"
      },
      "source": [
        "+= is quivalent to:\n",
        "```\n",
        "result = a_list.__iadd__([1]) # same as calling extend \n",
        "a_list = result\n",
        "```\n",
        "\n",
        "\n",
        "Source: https://docs.python.org/3/faq/programming.html#why-does-a-tuple-i-item-raise-an-exception-when-the-addition-works"
      ]
    },
    {
      "cell_type": "markdown",
      "metadata": {
        "id": "iM-TtHnMaL4o",
        "colab_type": "text"
      },
      "source": [
        "### 5.All and emptiness"
      ]
    },
    {
      "cell_type": "code",
      "metadata": {
        "id": "8EGmqMi7aaCV",
        "colab_type": "code",
        "outputId": "ac0834a6-5628-4255-fdd2-d69e1bddeaf2",
        "colab": {
          "base_uri": "https://localhost:8080/",
          "height": 35
        }
      },
      "source": [
        "all([True, True, True, True, True])"
      ],
      "execution_count": 0,
      "outputs": [
        {
          "output_type": "execute_result",
          "data": {
            "text/plain": [
              "True"
            ]
          },
          "metadata": {
            "tags": []
          },
          "execution_count": 146
        }
      ]
    },
    {
      "cell_type": "code",
      "metadata": {
        "id": "MqThyEmSac8D",
        "colab_type": "code",
        "outputId": "768c9763-c436-452f-dd01-abcc5b7d9d43",
        "colab": {
          "base_uri": "https://localhost:8080/",
          "height": 35
        }
      },
      "source": [
        "all([False, True, True, True, True])"
      ],
      "execution_count": 0,
      "outputs": [
        {
          "output_type": "execute_result",
          "data": {
            "text/plain": [
              "False"
            ]
          },
          "metadata": {
            "tags": []
          },
          "execution_count": 147
        }
      ]
    },
    {
      "cell_type": "code",
      "metadata": {
        "id": "UeKpEFynaS2X",
        "colab_type": "code",
        "outputId": "d92ddfe9-fad7-4df2-d89a-b7fa2f16b6bd",
        "colab": {
          "base_uri": "https://localhost:8080/",
          "height": 35
        }
      },
      "source": [
        "all([])"
      ],
      "execution_count": 0,
      "outputs": [
        {
          "output_type": "execute_result",
          "data": {
            "text/plain": [
              "True"
            ]
          },
          "metadata": {
            "tags": []
          },
          "execution_count": 148
        }
      ]
    },
    {
      "cell_type": "code",
      "metadata": {
        "id": "6gjE54KQaVNv",
        "colab_type": "code",
        "outputId": "1630ffec-c283-4a2d-dcfb-a20b3c080234",
        "colab": {
          "base_uri": "https://localhost:8080/",
          "height": 35
        }
      },
      "source": [
        "all([[]])"
      ],
      "execution_count": 0,
      "outputs": [
        {
          "output_type": "execute_result",
          "data": {
            "text/plain": [
              "False"
            ]
          },
          "metadata": {
            "tags": []
          },
          "execution_count": 149
        }
      ]
    },
    {
      "cell_type": "code",
      "metadata": {
        "id": "oGIglGmoaVS2",
        "colab_type": "code",
        "outputId": "69a9b7b3-80e3-407e-acf3-07fe1da5a73e",
        "colab": {
          "base_uri": "https://localhost:8080/",
          "height": 35
        }
      },
      "source": [
        "all([[[]]])"
      ],
      "execution_count": 0,
      "outputs": [
        {
          "output_type": "execute_result",
          "data": {
            "text/plain": [
              "True"
            ]
          },
          "metadata": {
            "tags": []
          },
          "execution_count": 150
        }
      ]
    },
    {
      "cell_type": "code",
      "metadata": {
        "id": "SF9kqXu4amZn",
        "colab_type": "code",
        "outputId": "cfdd4203-96aa-4fb9-da18-f04a510fdccf",
        "colab": {
          "base_uri": "https://localhost:8080/",
          "height": 35
        }
      },
      "source": [
        "all([[[[]]]])"
      ],
      "execution_count": 0,
      "outputs": [
        {
          "output_type": "execute_result",
          "data": {
            "text/plain": [
              "True"
            ]
          },
          "metadata": {
            "tags": []
          },
          "execution_count": 151
        }
      ]
    },
    {
      "cell_type": "markdown",
      "metadata": {
        "id": "ovJeVtJIamhT",
        "colab_type": "text"
      },
      "source": [
        "#### Answer"
      ]
    },
    {
      "cell_type": "markdown",
      "metadata": {
        "id": "JwMWvMEfbzvG",
        "colab_type": "text"
      },
      "source": [
        "all(...) applies bool(...) to every element that is fed inside, for example `all([[]])` is equivalent to `all([bool([])])` \n",
        "\n",
        "Let's see in python:"
      ]
    },
    {
      "cell_type": "code",
      "metadata": {
        "id": "T1oe3hsocLtK",
        "colab_type": "code",
        "outputId": "71acee64-6e1c-4452-f01d-aa16df3327ed",
        "colab": {
          "base_uri": "https://localhost:8080/",
          "height": 35
        }
      },
      "source": [
        "bool([]) # => construction all([[]]) is equivalent to all([False]) what is by definition False"
      ],
      "execution_count": 0,
      "outputs": [
        {
          "output_type": "execute_result",
          "data": {
            "text/plain": [
              "False"
            ]
          },
          "metadata": {
            "tags": []
          },
          "execution_count": 169
        }
      ]
    },
    {
      "cell_type": "markdown",
      "metadata": {
        "id": "OGbIIYUkew3S",
        "colab_type": "text"
      },
      "source": [
        "Meanwhile `all([[[]]])` is equivalent to `all([bool([[]])])`"
      ]
    },
    {
      "cell_type": "code",
      "metadata": {
        "id": "i_WkVChxcOLm",
        "colab_type": "code",
        "outputId": "7cdcc750-a485-4724-d96d-504707cde327",
        "colab": {
          "base_uri": "https://localhost:8080/",
          "height": 35
        }
      },
      "source": [
        "bool([[]]) # because bool([]) = False and bool([False]) = True"
      ],
      "execution_count": 0,
      "outputs": [
        {
          "output_type": "execute_result",
          "data": {
            "text/plain": [
              "True"
            ]
          },
          "metadata": {
            "tags": []
          },
          "execution_count": 170
        }
      ]
    },
    {
      "cell_type": "markdown",
      "metadata": {
        "id": "wpNfpWiPc8t6",
        "colab_type": "text"
      },
      "source": [
        "Thus construction `all([[[]]])` is the same as `all([True])` what is True by defenition"
      ]
    },
    {
      "cell_type": "markdown",
      "metadata": {
        "id": "oaYtWM6eib9l",
        "colab_type": "text"
      },
      "source": [
        "### 6. Global function"
      ]
    },
    {
      "cell_type": "code",
      "metadata": {
        "id": "l8WKHafrizHM",
        "colab_type": "code",
        "colab": {}
      },
      "source": [
        "a = 1"
      ],
      "execution_count": 0,
      "outputs": []
    },
    {
      "cell_type": "code",
      "metadata": {
        "id": "E7HVmjKPthWy",
        "colab_type": "code",
        "colab": {}
      },
      "source": [
        "def func():\n",
        "  return a"
      ],
      "execution_count": 0,
      "outputs": []
    },
    {
      "cell_type": "code",
      "metadata": {
        "id": "OHBnwZ22tkqf",
        "colab_type": "code",
        "outputId": "140490d6-9d10-45eb-90d3-a607612d058e",
        "colab": {
          "base_uri": "https://localhost:8080/",
          "height": 35
        }
      },
      "source": [
        "func()"
      ],
      "execution_count": 0,
      "outputs": [
        {
          "output_type": "execute_result",
          "data": {
            "text/plain": [
              "1"
            ]
          },
          "metadata": {
            "tags": []
          },
          "execution_count": 206
        }
      ]
    },
    {
      "cell_type": "code",
      "metadata": {
        "id": "664WvCZ9tkpz",
        "colab_type": "code",
        "colab": {}
      },
      "source": [
        "def func_new():\n",
        "  a += 1\n",
        "  return a"
      ],
      "execution_count": 0,
      "outputs": []
    },
    {
      "cell_type": "code",
      "metadata": {
        "id": "bH0cHLdLtpCc",
        "colab_type": "code",
        "outputId": "8ff96302-4f32-47f0-9dc8-8de394ac5e0f",
        "colab": {
          "base_uri": "https://localhost:8080/",
          "height": 253
        }
      },
      "source": [
        "func_new()"
      ],
      "execution_count": 0,
      "outputs": [
        {
          "output_type": "error",
          "ename": "UnboundLocalError",
          "evalue": "ignored",
          "traceback": [
            "\u001b[0;31m---------------------------------------------------------------------------\u001b[0m",
            "\u001b[0;31mUnboundLocalError\u001b[0m                         Traceback (most recent call last)",
            "\u001b[0;32m<ipython-input-208-05aae6f5f484>\u001b[0m in \u001b[0;36m<module>\u001b[0;34m()\u001b[0m\n\u001b[0;32m----> 1\u001b[0;31m \u001b[0mfunc_new\u001b[0m\u001b[0;34m(\u001b[0m\u001b[0;34m)\u001b[0m\u001b[0;34m\u001b[0m\u001b[0;34m\u001b[0m\u001b[0m\n\u001b[0m",
            "\u001b[0;32m<ipython-input-207-1390ccf2e04c>\u001b[0m in \u001b[0;36mfunc_new\u001b[0;34m()\u001b[0m\n\u001b[1;32m      1\u001b[0m \u001b[0;32mdef\u001b[0m \u001b[0mfunc_new\u001b[0m\u001b[0;34m(\u001b[0m\u001b[0;34m)\u001b[0m\u001b[0;34m:\u001b[0m\u001b[0;34m\u001b[0m\u001b[0;34m\u001b[0m\u001b[0m\n\u001b[0;32m----> 2\u001b[0;31m   \u001b[0ma\u001b[0m \u001b[0;34m+=\u001b[0m \u001b[0;36m1\u001b[0m\u001b[0;34m\u001b[0m\u001b[0;34m\u001b[0m\u001b[0m\n\u001b[0m\u001b[1;32m      3\u001b[0m   \u001b[0;32mreturn\u001b[0m \u001b[0ma\u001b[0m\u001b[0;34m\u001b[0m\u001b[0;34m\u001b[0m\u001b[0m\n",
            "\u001b[0;31mUnboundLocalError\u001b[0m: local variable 'a' referenced before assignment"
          ]
        }
      ]
    },
    {
      "cell_type": "markdown",
      "metadata": {
        "id": "MLHWLNQ8vx59",
        "colab_type": "text"
      },
      "source": [
        "### 7. NaN"
      ]
    },
    {
      "cell_type": "code",
      "metadata": {
        "id": "MAStv7pjv3OE",
        "colab_type": "code",
        "outputId": "325835aa-0be5-4a42-cb07-3cd315931d7a",
        "colab": {
          "base_uri": "https://localhost:8080/",
          "height": 35
        }
      },
      "source": [
        "x = float(\"nan\")\n",
        "y = float(\"nan\")\n",
        "x == x"
      ],
      "execution_count": 0,
      "outputs": [
        {
          "output_type": "execute_result",
          "data": {
            "text/plain": [
              "False"
            ]
          },
          "metadata": {
            "tags": []
          },
          "execution_count": 212
        }
      ]
    },
    {
      "cell_type": "code",
      "metadata": {
        "id": "5ddaczk6v7b4",
        "colab_type": "code",
        "outputId": "a76daa28-921e-4c04-91ce-2739e458b316",
        "colab": {
          "base_uri": "https://localhost:8080/",
          "height": 35
        }
      },
      "source": [
        "[x] == [x]"
      ],
      "execution_count": 0,
      "outputs": [
        {
          "output_type": "execute_result",
          "data": {
            "text/plain": [
              "True"
            ]
          },
          "metadata": {
            "tags": []
          },
          "execution_count": 213
        }
      ]
    },
    {
      "cell_type": "code",
      "metadata": {
        "id": "-oSDi3NEv7eG",
        "colab_type": "code",
        "outputId": "f5eb8493-a8e4-4614-f07b-cd3732ef756d",
        "colab": {
          "base_uri": "https://localhost:8080/",
          "height": 35
        }
      },
      "source": [
        "[x] == [y]"
      ],
      "execution_count": 0,
      "outputs": [
        {
          "output_type": "execute_result",
          "data": {
            "text/plain": [
              "False"
            ]
          },
          "metadata": {
            "tags": []
          },
          "execution_count": 214
        }
      ]
    },
    {
      "cell_type": "markdown",
      "metadata": {
        "id": "UsLvN1grybsR",
        "colab_type": "text"
      },
      "source": [
        "### 8. Final example"
      ]
    },
    {
      "cell_type": "code",
      "metadata": {
        "id": "XvC1bU0eyi1z",
        "colab_type": "code",
        "outputId": "6eb86a43-c5a8-47ad-e109-94842e66a03a",
        "colab": {
          "base_uri": "https://localhost:8080/",
          "height": 35
        }
      },
      "source": [
        "a = 100\n",
        "b = 100\n",
        "a is b"
      ],
      "execution_count": 0,
      "outputs": [
        {
          "output_type": "execute_result",
          "data": {
            "text/plain": [
              "True"
            ]
          },
          "metadata": {
            "tags": []
          },
          "execution_count": 28
        }
      ]
    },
    {
      "cell_type": "code",
      "metadata": {
        "id": "gdLfZSmLy6c1",
        "colab_type": "code",
        "outputId": "8b157f76-78bb-49fe-c6c3-2590c74d4a25",
        "colab": {
          "base_uri": "https://localhost:8080/",
          "height": 35
        }
      },
      "source": [
        "a = 300\n",
        "b = 300\n",
        "a is b"
      ],
      "execution_count": 0,
      "outputs": [
        {
          "output_type": "execute_result",
          "data": {
            "text/plain": [
              "False"
            ]
          },
          "metadata": {
            "tags": []
          },
          "execution_count": 29
        }
      ]
    },
    {
      "cell_type": "markdown",
      "metadata": {
        "id": "F4hLFa3kOvLm",
        "colab_type": "text"
      },
      "source": [
        "#### Answer"
      ]
    },
    {
      "cell_type": "code",
      "metadata": {
        "id": "pmCo1mpCO7wt",
        "colab_type": "code",
        "outputId": "93c72382-c6a7-409e-dc25-6b317426f986",
        "colab": {
          "base_uri": "https://localhost:8080/",
          "height": 35
        }
      },
      "source": [
        "a = 100\n",
        "b = 100\n",
        "id(a) == id(b)"
      ],
      "execution_count": 0,
      "outputs": [
        {
          "output_type": "execute_result",
          "data": {
            "text/plain": [
              "True"
            ]
          },
          "metadata": {
            "tags": []
          },
          "execution_count": 5
        }
      ]
    },
    {
      "cell_type": "code",
      "metadata": {
        "id": "A4g6aSnhO-76",
        "colab_type": "code",
        "outputId": "cff087df-93ed-471c-945f-244cfe018a82",
        "colab": {
          "base_uri": "https://localhost:8080/",
          "height": 35
        }
      },
      "source": [
        "a = 300\n",
        "b = 300\n",
        "id(a) == id(b)"
      ],
      "execution_count": 0,
      "outputs": [
        {
          "output_type": "execute_result",
          "data": {
            "text/plain": [
              "False"
            ]
          },
          "metadata": {
            "tags": []
          },
          "execution_count": 6
        }
      ]
    },
    {
      "cell_type": "markdown",
      "metadata": {
        "id": "uM3TGV88ZXYX",
        "colab_type": "text"
      },
      "source": [
        "**The current implementation keeps an array of integer objects for all integers between -5 and 256, when you create an int in that range you actually just get back a reference to the existing object. So it should be possible to change the value of 1**"
      ]
    },
    {
      "cell_type": "markdown",
      "metadata": {
        "id": "eisfkPc_Tfxs",
        "colab_type": "text"
      },
      "source": [
        "<img src=\"https://github.com/DmitriiDenisov/talks/blob/master/images/1.jfif?raw=true\" width=\"300\">"
      ]
    },
    {
      "cell_type": "markdown",
      "metadata": {
        "id": "rC_YgB8QWto2",
        "colab_type": "text"
      },
      "source": [
        "<img src=\"https://github.com/DmitriiDenisov/talks/blob/master/images/2.jfif?raw=true\" width=\"300\">"
      ]
    },
    {
      "cell_type": "markdown",
      "metadata": {
        "id": "G0hPWxJtWtuh",
        "colab_type": "text"
      },
      "source": [
        "<img src=\"https://github.com/DmitriiDenisov/talks/blob/master/images/3.jfif?raw=true\" width=\"300\">"
      ]
    },
    {
      "cell_type": "markdown",
      "metadata": {
        "id": "JLNMruvJTfzn",
        "colab_type": "text"
      },
      "source": [
        "<img src=\"https://github.com/DmitriiDenisov/talks/blob/master/images/4.jfif?raw=true\" width=\"300\">"
      ]
    },
    {
      "cell_type": "markdown",
      "metadata": {
        "id": "JL3MhOZwTf8J",
        "colab_type": "text"
      },
      "source": [
        "<img src=\"https://github.com/DmitriiDenisov/talks/blob/master/images/5.jfif?raw=true\" width=\"300\">"
      ]
    },
    {
      "cell_type": "markdown",
      "metadata": {
        "id": "Y_llIua2XqBf",
        "colab_type": "text"
      },
      "source": [
        "<img src=\"https://github.com/DmitriiDenisov/talks/blob/master/images/6.jfif?raw=true\" width=\"300\">"
      ]
    },
    {
      "cell_type": "markdown",
      "metadata": {
        "id": "GjVtbyX0XqEV",
        "colab_type": "text"
      },
      "source": [
        "<img src=\"https://github.com/DmitriiDenisov/talks/blob/master/images/7.jfif?raw=true\" width=\"300\">"
      ]
    },
    {
      "cell_type": "code",
      "metadata": {
        "id": "Dd7EjG9hzDt2",
        "colab_type": "code",
        "outputId": "f88c40d5-bf08-45f6-8a12-dd603592ea41",
        "colab": {
          "base_uri": "https://localhost:8080/",
          "height": 35
        }
      },
      "source": [
        "a, b = 300, 300\n",
        "a is b"
      ],
      "execution_count": 0,
      "outputs": [
        {
          "output_type": "execute_result",
          "data": {
            "text/plain": [
              "True"
            ]
          },
          "metadata": {
            "tags": []
          },
          "execution_count": 30
        }
      ]
    },
    {
      "cell_type": "code",
      "metadata": {
        "id": "dImR5UsdPGVm",
        "colab_type": "code",
        "colab": {}
      },
      "source": [
        "import ctypes\n",
        "import sys\n",
        "\n",
        "def mutate(obj, new_obj):\n",
        "    if sys.getsizeof(obj) != sys.getsizeof(new_obj):\n",
        "        raise ValueError('objects must have same size')\n",
        "\n",
        "    mem = (ctypes.c_byte * sys.getsizeof(obj)).from_address(id(obj))\n",
        "    new_mem = (ctypes.c_byte * sys.getsizeof(new_obj)).from_address(id(new_obj))\n",
        "\n",
        "    for i in range(len(mem)):\n",
        "        mem[i] = new_mem[i]"
      ],
      "execution_count": 0,
      "outputs": []
    },
    {
      "cell_type": "code",
      "metadata": {
        "id": "cyKPXWQ9kZx3",
        "colab_type": "code",
        "colab": {
          "base_uri": "https://localhost:8080/",
          "height": 35
        },
        "outputId": "7171cdd7-31b0-4368-c555-8fc69bd5a730"
      },
      "source": [
        "x = 'a'\n",
        "print('x =', x)"
      ],
      "execution_count": 2,
      "outputs": [
        {
          "output_type": "stream",
          "text": [
            "x =  a\n"
          ],
          "name": "stdout"
        }
      ]
    },
    {
      "cell_type": "code",
      "metadata": {
        "id": "hDcoVAmmng8o",
        "colab_type": "code",
        "colab": {
          "base_uri": "https://localhost:8080/",
          "height": 35
        },
        "outputId": "a65e42a1-3fe1-43a7-a747-357f8e4980db"
      },
      "source": [
        "mutate('a', 'b')\n",
        "print('Now x =', x) # prints: 'b'"
      ],
      "execution_count": 4,
      "outputs": [
        {
          "output_type": "stream",
          "text": [
            "Now x = b\n"
          ],
          "name": "stdout"
        }
      ]
    },
    {
      "cell_type": "code",
      "metadata": {
        "id": "0C1LvA6tn85q",
        "colab_type": "code",
        "colab": {
          "base_uri": "https://localhost:8080/",
          "height": 35
        },
        "outputId": "89e717bc-071e-4b1d-87da-fcf1a5328091"
      },
      "source": [
        "'a'"
      ],
      "execution_count": 5,
      "outputs": [
        {
          "output_type": "execute_result",
          "data": {
            "text/plain": [
              "'b'"
            ]
          },
          "metadata": {
            "tags": []
          },
          "execution_count": 5
        }
      ]
    },
    {
      "cell_type": "code",
      "metadata": {
        "id": "Thr-WQlblH62",
        "colab_type": "code",
        "colab": {}
      },
      "source": [
        "mutate(50, 100)"
      ],
      "execution_count": 0,
      "outputs": []
    },
    {
      "cell_type": "code",
      "metadata": {
        "id": "oK4lpCk9kbhh",
        "colab_type": "code",
        "outputId": "097e8404-841b-4cc6-b89c-cef543627ad0",
        "colab": {
          "base_uri": "https://localhost:8080/",
          "height": 35
        }
      },
      "source": [
        "50"
      ],
      "execution_count": 7,
      "outputs": [
        {
          "output_type": "execute_result",
          "data": {
            "text/plain": [
              "100"
            ]
          },
          "metadata": {
            "tags": []
          },
          "execution_count": 7
        }
      ]
    },
    {
      "cell_type": "code",
      "metadata": {
        "id": "Bs-yEbnLCwA3",
        "colab_type": "code",
        "colab": {
          "base_uri": "https://localhost:8080/",
          "height": 35
        },
        "outputId": "c3bf7783-71c0-4640-a62a-e42800fc29e5"
      },
      "source": [
        "50 + 1"
      ],
      "execution_count": 8,
      "outputs": [
        {
          "output_type": "execute_result",
          "data": {
            "text/plain": [
              "101"
            ]
          },
          "metadata": {
            "tags": []
          },
          "execution_count": 8
        }
      ]
    },
    {
      "cell_type": "code",
      "metadata": {
        "id": "-DRaZYUICyAu",
        "colab_type": "code",
        "colab": {
          "base_uri": "https://localhost:8080/",
          "height": 35
        },
        "outputId": "976ecb1e-70d5-478f-a9f9-db1f0414863b"
      },
      "source": [
        "50 * 2"
      ],
      "execution_count": 9,
      "outputs": [
        {
          "output_type": "execute_result",
          "data": {
            "text/plain": [
              "200"
            ]
          },
          "metadata": {
            "tags": []
          },
          "execution_count": 9
        }
      ]
    },
    {
      "cell_type": "code",
      "metadata": {
        "id": "d__TqU4HmTdp",
        "colab_type": "code",
        "colab": {
          "base_uri": "https://localhost:8080/",
          "height": 35
        },
        "outputId": "4b847df9-a3df-4d3d-97be-399d273e4f0d"
      },
      "source": [
        "25 * 2"
      ],
      "execution_count": 10,
      "outputs": [
        {
          "output_type": "execute_result",
          "data": {
            "text/plain": [
              "100"
            ]
          },
          "metadata": {
            "tags": []
          },
          "execution_count": 10
        }
      ]
    },
    {
      "cell_type": "code",
      "metadata": {
        "id": "XU4GdPmYmYeI",
        "colab_type": "code",
        "colab": {
          "base_uri": "https://localhost:8080/",
          "height": 35
        },
        "outputId": "373bf040-6c60-4580-d029-b3e42236f5c5"
      },
      "source": [
        "49 + 1"
      ],
      "execution_count": 11,
      "outputs": [
        {
          "output_type": "execute_result",
          "data": {
            "text/plain": [
              "100"
            ]
          },
          "metadata": {
            "tags": []
          },
          "execution_count": 11
        }
      ]
    },
    {
      "cell_type": "code",
      "metadata": {
        "id": "TZ0Ut5Humliu",
        "colab_type": "code",
        "colab": {
          "base_uri": "https://localhost:8080/",
          "height": 35
        },
        "outputId": "e0397ca4-5d31-4db5-f50f-4a9d8f5c4861"
      },
      "source": [
        "50 * 2 == 200"
      ],
      "execution_count": 12,
      "outputs": [
        {
          "output_type": "execute_result",
          "data": {
            "text/plain": [
              "True"
            ]
          },
          "metadata": {
            "tags": []
          },
          "execution_count": 12
        }
      ]
    },
    {
      "cell_type": "code",
      "metadata": {
        "id": "YXcJoSfVCyDD",
        "colab_type": "code",
        "colab": {
          "base_uri": "https://localhost:8080/",
          "height": 35
        },
        "outputId": "95e51e7c-0417-4a3f-d3ee-4d49a05d4904"
      },
      "source": [
        "50 // 2 == 100 ## Why True?"
      ],
      "execution_count": 13,
      "outputs": [
        {
          "output_type": "execute_result",
          "data": {
            "text/plain": [
              "True"
            ]
          },
          "metadata": {
            "tags": []
          },
          "execution_count": 13
        }
      ]
    },
    {
      "cell_type": "code",
      "metadata": {
        "id": "AOWAX6NZDDzs",
        "colab_type": "code",
        "colab": {
          "base_uri": "https://localhost:8080/",
          "height": 52
        },
        "outputId": "287bfb1b-fee1-42f0-bb5b-83cde0162db9"
      },
      "source": [
        "a = 500\n",
        "print('a = ', a)\n",
        "b = 500\n",
        "print('b = ', b)"
      ],
      "execution_count": 4,
      "outputs": [
        {
          "output_type": "stream",
          "text": [
            "a =  500\n",
            "b =  500\n"
          ],
          "name": "stdout"
        }
      ]
    },
    {
      "cell_type": "code",
      "metadata": {
        "id": "l4bcokcEC24i",
        "colab_type": "code",
        "colab": {
          "base_uri": "https://localhost:8080/",
          "height": 52
        },
        "outputId": "09ec6126-192f-427d-eff7-97aad10c203f"
      },
      "source": [
        "mutate(a, 600)\n",
        "print('Now a = ', a) # prints: 400\n",
        "print('Now b = ', b) # prints: 300"
      ],
      "execution_count": 5,
      "outputs": [
        {
          "output_type": "stream",
          "text": [
            "Now a =  600\n",
            "Now b =  500\n"
          ],
          "name": "stdout"
        }
      ]
    },
    {
      "cell_type": "markdown",
      "metadata": {
        "id": "pDCwWOPkpf_j",
        "colab_type": "text"
      },
      "source": [
        "#### Change to python2 and swap True and False"
      ]
    },
    {
      "cell_type": "code",
      "metadata": {
        "id": "Oi8qREmgkbgm",
        "colab_type": "code",
        "outputId": "08231f64-f0c0-4626-f6ad-243005f1fda3",
        "colab": {
          "base_uri": "https://localhost:8080/",
          "height": 131
        }
      },
      "source": [
        "True, False = False, True"
      ],
      "execution_count": 0,
      "outputs": [
        {
          "output_type": "error",
          "ename": "SyntaxError",
          "evalue": "ignored",
          "traceback": [
            "\u001b[0;36m  File \u001b[0;32m\"<ipython-input-1-3a3ec91f3bbc>\"\u001b[0;36m, line \u001b[0;32m1\u001b[0m\n\u001b[0;31m    True, False = False, True\u001b[0m\n\u001b[0m                             ^\u001b[0m\n\u001b[0;31mSyntaxError\u001b[0m\u001b[0;31m:\u001b[0m can't assign to keyword\n"
          ]
        }
      ]
    },
    {
      "cell_type": "code",
      "metadata": {
        "id": "NTvjAdhaqZmw",
        "colab_type": "code",
        "colab": {}
      },
      "source": [
        "if False:\n",
        "  print('1')\n",
        "else:\n",
        "  print('2')"
      ],
      "execution_count": 0,
      "outputs": []
    },
    {
      "cell_type": "markdown",
      "metadata": {
        "id": "V-Q-hE4P2ztz",
        "colab_type": "text"
      },
      "source": [
        "### 8.1 Bonus (remove?)"
      ]
    },
    {
      "cell_type": "code",
      "metadata": {
        "id": "PNzsmwjrvKzv",
        "colab_type": "code",
        "outputId": "21cd9c0f-6529-43ca-c94b-6636632e102d",
        "colab": {
          "base_uri": "https://localhost:8080/",
          "height": 35
        }
      },
      "source": [
        "one = [1, 2]\n",
        "two = [one, one]\n",
        "one[1] = 100\n",
        "two"
      ],
      "execution_count": 0,
      "outputs": [
        {
          "output_type": "execute_result",
          "data": {
            "text/plain": [
              "[[1, 100], [1, 100]]"
            ]
          },
          "metadata": {
            "tags": []
          },
          "execution_count": 50
        }
      ]
    },
    {
      "cell_type": "code",
      "metadata": {
        "id": "VWJsKjxn2zt1",
        "colab_type": "code",
        "outputId": "34066682-ac57-4791-85e6-ad7e5eb19ceb",
        "colab": {}
      },
      "source": [
        "expected = [ [9],[0] ]\n",
        "unexpected = [ [9],[9] ]\n",
        "basic = [ [0],[0] ]\n",
        "basic[0][0] = 9\n",
        "print(basic == expected) # this is true"
      ],
      "execution_count": 0,
      "outputs": [
        {
          "output_type": "stream",
          "text": [
            "True\n"
          ],
          "name": "stdout"
        }
      ]
    },
    {
      "cell_type": "code",
      "metadata": {
        "id": "Zp7WVK_I2zuD",
        "colab_type": "code",
        "outputId": "111d9580-29fa-4384-c906-5a0f2f015521",
        "colab": {}
      },
      "source": [
        "l = [0]\n",
        "modified = [ l, l ]\n",
        "modified[0][0] = 9\n",
        "print(modified == expected) # this is false\n",
        "print(modified == unexpected) # this is true"
      ],
      "execution_count": 0,
      "outputs": [
        {
          "output_type": "stream",
          "text": [
            "False\n",
            "True\n"
          ],
          "name": "stdout"
        }
      ]
    },
    {
      "cell_type": "code",
      "metadata": {
        "id": "5ZpMftdz2zuN",
        "colab_type": "code",
        "outputId": "cf4e02b8-2e6e-4bfa-84ed-e733309c18c8",
        "colab": {}
      },
      "source": [
        "modified"
      ],
      "execution_count": 0,
      "outputs": [
        {
          "output_type": "execute_result",
          "data": {
            "text/plain": [
              "[[9], [9]]"
            ]
          },
          "metadata": {
            "tags": []
          },
          "execution_count": 42
        }
      ]
    },
    {
      "cell_type": "markdown",
      "metadata": {
        "id": "PfKrtyWg2zuW",
        "colab_type": "text"
      },
      "source": [
        "## Fast Quiz!"
      ]
    },
    {
      "cell_type": "markdown",
      "metadata": {
        "id": "dic0RUZwzTpe",
        "colab_type": "text"
      },
      "source": [
        "#### Question 1:"
      ]
    },
    {
      "cell_type": "code",
      "metadata": {
        "id": "2Z44Qj1G2zua",
        "colab_type": "code",
        "outputId": "e2daa01c-cfb4-4f20-8b01-ec7826f2a4fb",
        "colab": {
          "base_uri": "https://localhost:8080/",
          "height": 35
        }
      },
      "source": [
        "x, y = ## ???\n",
        "x+y == y+x # Should be False"
      ],
      "execution_count": 0,
      "outputs": [
        {
          "output_type": "execute_result",
          "data": {
            "text/plain": [
              "'ab'"
            ]
          },
          "metadata": {
            "tags": []
          },
          "execution_count": 184
        }
      ]
    },
    {
      "cell_type": "markdown",
      "metadata": {
        "id": "ZpZgShUVzWuZ",
        "colab_type": "text"
      },
      "source": [
        "#### Question 2:"
      ]
    },
    {
      "cell_type": "code",
      "metadata": {
        "id": "SKVuxPocdN8R",
        "colab_type": "code",
        "outputId": "bfee06ca-3837-4361-ecb4-3738dae6f80d",
        "colab": {
          "base_uri": "https://localhost:8080/",
          "height": 131
        }
      },
      "source": [
        "x, y, z = ## ???"
      ],
      "execution_count": 0,
      "outputs": [
        {
          "output_type": "error",
          "ename": "SyntaxError",
          "evalue": "ignored",
          "traceback": [
            "\u001b[0;36m  File \u001b[0;32m\"<ipython-input-92-6254f0406117>\"\u001b[0;36m, line \u001b[0;32m1\u001b[0m\n\u001b[0;31m    x, y, z = ## ???\u001b[0m\n\u001b[0m                    ^\u001b[0m\n\u001b[0;31mSyntaxError\u001b[0m\u001b[0;31m:\u001b[0m invalid syntax\n"
          ]
        }
      ]
    },
    {
      "cell_type": "code",
      "metadata": {
        "id": "xo4YSpdyd0nI",
        "colab_type": "code",
        "outputId": "b9b34f5a-72d0-47d7-9bfd-ab3fa7f0fd23",
        "colab": {
          "base_uri": "https://localhost:8080/",
          "height": 35
        }
      },
      "source": [
        "x * (y * z) == (x * y) * z ## Should be False"
      ],
      "execution_count": 0,
      "outputs": [
        {
          "output_type": "execute_result",
          "data": {
            "text/plain": [
              "False"
            ]
          },
          "metadata": {
            "tags": []
          },
          "execution_count": 86
        }
      ]
    },
    {
      "cell_type": "markdown",
      "metadata": {
        "id": "f3pxPzqAzWye",
        "colab_type": "text"
      },
      "source": [
        "#### Question 3:"
      ]
    },
    {
      "cell_type": "code",
      "metadata": {
        "id": "h39QmaGmiLX1",
        "colab_type": "code",
        "outputId": "4e37a99f-0d15-4e6b-f887-ddf21f85b722",
        "colab": {
          "base_uri": "https://localhost:8080/",
          "height": 35
        }
      },
      "source": [
        "x, y = \"aa\", \"aa\" ## ???\n",
        "y > max(x) and y in x ## Should be True"
      ],
      "execution_count": 0,
      "outputs": [
        {
          "output_type": "execute_result",
          "data": {
            "text/plain": [
              "True"
            ]
          },
          "metadata": {
            "tags": []
          },
          "execution_count": 93
        }
      ]
    }
  ]
}
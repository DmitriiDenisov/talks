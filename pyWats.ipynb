{
  "nbformat": 4,
  "nbformat_minor": 0,
  "metadata": {
    "kernelspec": {
      "name": "python3",
      "display_name": "Python 3"
    },
    "colab": {
      "name": "Copy of PyWat AI everything.ipynb",
      "provenance": [],
      "include_colab_link": true
    }
  },
  "cells": [
    {
      "cell_type": "markdown",
      "metadata": {
        "id": "view-in-github",
        "colab_type": "text"
      },
      "source": [
        "<a href=\"https://colab.research.google.com/github/DmitriiDenisov/talks/blob/master/pyWats.ipynb\" target=\"_parent\"><img src=\"https://colab.research.google.com/assets/colab-badge.svg\" alt=\"Open In Colab\"/></a>"
      ]
    },
    {
      "cell_type": "markdown",
      "metadata": {
        "id": "CY-dcTcg2ztZ"
      },
      "source": [
        "**Sources:**\n",
        "\n",
        "https://github.com/cosmologicon/pywat\n",
        "\n",
        "https://www.youtube.com/watch?v=sH4XF6pKKmk&list=WL&index=9&t=491s\n",
        "\n",
        "https://www.reddit.com/r/programming/comments/3obd4a/python_wats/\n",
        "\n"
      ]
    },
    {
      "cell_type": "code",
      "metadata": {
        "id": "uieQT4Oe2zte"
      },
      "source": [
        "from platform import python_version\n",
        "print(python_version())"
      ],
      "execution_count": null,
      "outputs": []
    },
    {
      "cell_type": "markdown",
      "metadata": {
        "id": "VQyfeAB08TYI"
      },
      "source": [
        "### 1. Different types:"
      ]
    },
    {
      "cell_type": "code",
      "metadata": {
        "id": "pikKKrZZ8YiW"
      },
      "source": [
        "type(1) == type(-1)"
      ],
      "execution_count": null,
      "outputs": []
    },
    {
      "cell_type": "code",
      "metadata": {
        "id": "BwyIL5558drK"
      },
      "source": [
        "1 ** 1 == 1 ** -1"
      ],
      "execution_count": null,
      "outputs": []
    },
    {
      "cell_type": "code",
      "metadata": {
        "id": "vGNAOqiH8duB"
      },
      "source": [
        "type(1 ** 1) == type(1 ** -1)"
      ],
      "execution_count": null,
      "outputs": []
    },
    {
      "cell_type": "markdown",
      "metadata": {
        "id": "-PaKT2PX8qJh"
      },
      "source": [
        "#### Answer"
      ]
    },
    {
      "cell_type": "markdown",
      "metadata": {
        "id": "8k4F7OYC8wWl"
      },
      "source": [
        "**type(1 ** 1) is int meanwhile type(1 ** -1) is float**"
      ]
    },
    {
      "cell_type": "markdown",
      "metadata": {
        "id": "bWppSnJNqHMn"
      },
      "source": [
        "### 2. Operator precedence?"
      ]
    },
    {
      "cell_type": "code",
      "metadata": {
        "id": "XwiX-aT3ibBh"
      },
      "source": [
        "(False == False) in [False]"
      ],
      "execution_count": null,
      "outputs": []
    },
    {
      "cell_type": "code",
      "metadata": {
        "id": "S9JMFU_1ibD_"
      },
      "source": [
        "False == (False in [False])"
      ],
      "execution_count": null,
      "outputs": []
    },
    {
      "cell_type": "code",
      "metadata": {
        "id": "TWFVGIuyjXN5"
      },
      "source": [
        "False == False in [False]"
      ],
      "execution_count": null,
      "outputs": []
    },
    {
      "cell_type": "code",
      "metadata": {
        "id": "HA-Ywd01ibLg"
      },
      "source": [
        "1 in [1,2] == True"
      ],
      "execution_count": null,
      "outputs": []
    },
    {
      "cell_type": "markdown",
      "metadata": {
        "id": "OkSpdoH_86nW"
      },
      "source": [
        "#### Answer"
      ]
    },
    {
      "cell_type": "markdown",
      "metadata": {
        "id": "L5rmJ2LRpxMD"
      },
      "source": [
        "**Neither the == nor the in happens first. They're both comparison operators,with the same precedence, so they're chained. The line is equivalent to False == False and False in [False], which is True**\n",
        "\n",
        "Source: https://stackoverflow.com/questions/31354429/why-is-true-is-false-false-false-in-python"
      ]
    },
    {
      "cell_type": "markdown",
      "metadata": {
        "id": "PjJfAJqvqKPG"
      },
      "source": [
        "### 3. Types in comparisons"
      ]
    },
    {
      "cell_type": "code",
      "metadata": {
        "id": "nbuDdiz4qNo7"
      },
      "source": [
        "a = [0, 0]\n",
        "(x, y) = a"
      ],
      "execution_count": null,
      "outputs": []
    },
    {
      "cell_type": "code",
      "metadata": {
        "id": "48OKPpYHvPMI"
      },
      "source": [
        "print(x)\n",
        "print(y)"
      ],
      "execution_count": null,
      "outputs": []
    },
    {
      "cell_type": "code",
      "metadata": {
        "id": "oemcqCr8qN2F"
      },
      "source": [
        "(x, y) == a"
      ],
      "execution_count": null,
      "outputs": []
    },
    {
      "cell_type": "markdown",
      "metadata": {
        "id": "vlRKIkP7wtfB"
      },
      "source": [
        "#### Answer:"
      ]
    },
    {
      "cell_type": "markdown",
      "metadata": {
        "id": "l9KWcvO8wYfA"
      },
      "source": [
        "**Different types: tuple and list, we can not compare them!**"
      ]
    },
    {
      "cell_type": "markdown",
      "metadata": {
        "id": "JCTXsuY9wON_"
      },
      "source": [
        "#### One more:"
      ]
    },
    {
      "cell_type": "code",
      "metadata": {
        "id": "cJMIyiD9wJ_8"
      },
      "source": [
        "[1,2,3] == sorted([1,2,3])"
      ],
      "execution_count": null,
      "outputs": []
    },
    {
      "cell_type": "code",
      "metadata": {
        "id": "e8Qe9p6PwLYo"
      },
      "source": [
        "(1,2,3) == sorted((1,2,3))"
      ],
      "execution_count": null,
      "outputs": []
    },
    {
      "cell_type": "markdown",
      "metadata": {
        "id": "kRnaRoVY2dv9"
      },
      "source": [
        "#### Answer:"
      ]
    },
    {
      "cell_type": "markdown",
      "metadata": {
        "id": "L0veTRP02fd5"
      },
      "source": [
        "**Again different types! sorted(...) returns list, meanwhile (1, 2, 3) is tuple!**"
      ]
    },
    {
      "cell_type": "markdown",
      "metadata": {
        "id": "k8IBP1u72ff1"
      },
      "source": [
        "#### Continue with sorting:"
      ]
    },
    {
      "cell_type": "code",
      "metadata": {
        "id": "Swlrar0yxfyq"
      },
      "source": [
        "a = (2, 1, 3)\n",
        "sorted(a) == sorted(a)"
      ],
      "execution_count": null,
      "outputs": []
    },
    {
      "cell_type": "code",
      "metadata": {
        "id": "ut8z4IObxp7Y",
        "cellView": "both"
      },
      "source": [
        "reversed(a) == reversed(a)"
      ],
      "execution_count": null,
      "outputs": []
    },
    {
      "cell_type": "markdown",
      "metadata": {
        "id": "r6-9MbRz3Xrf"
      },
      "source": [
        "#### Answer"
      ]
    },
    {
      "cell_type": "markdown",
      "metadata": {
        "id": "WyLr4GNQ3Ztq"
      },
      "source": [
        "**reversed(...) returns an iterator. One iterator is not equal to another iterator**"
      ]
    },
    {
      "cell_type": "markdown",
      "metadata": {
        "id": "jb2gX2jO5IO5"
      },
      "source": [
        "#### Continue with reversed:"
      ]
    },
    {
      "cell_type": "code",
      "metadata": {
        "id": "AuCtdwpmx87a"
      },
      "source": [
        "b = reversed(a)\n",
        "sorted(b) == sorted(b)"
      ],
      "execution_count": null,
      "outputs": []
    },
    {
      "cell_type": "markdown",
      "metadata": {
        "id": "HCWwEpzZ7PUm"
      },
      "source": [
        "#### Answer"
      ]
    },
    {
      "cell_type": "markdown",
      "metadata": {
        "id": "WRFmKnhh7SLx"
      },
      "source": [
        "**reversed(...) returns iterator, sorted(...) calls this iterator and at first call reversed(...) returns expected list, however on second call it returns empty list because it has already returned everything during first call**"
      ]
    },
    {
      "cell_type": "markdown",
      "metadata": {
        "id": "NpnPKeGE8FQM"
      },
      "source": [
        "### 4. extend vs +="
      ]
    },
    {
      "cell_type": "code",
      "metadata": {
        "id": "noI6d_SdwND2"
      },
      "source": [
        "# Reminder of how extend works\n",
        "a = [1]\n",
        "a.extend([5,-1,3])\n",
        "a"
      ],
      "execution_count": null,
      "outputs": []
    },
    {
      "cell_type": "code",
      "metadata": {
        "id": "f7tiVJYrwa--"
      },
      "source": [
        "# Reminder of how += works\n",
        "a = [1]\n",
        "a += [-1, 4, 23, 0]\n",
        "a"
      ],
      "execution_count": null,
      "outputs": []
    },
    {
      "cell_type": "code",
      "metadata": {
        "id": "clX2r40d9Qk0"
      },
      "source": [
        "a = ([],)\n",
        "a[0].extend([1])\n",
        "a"
      ],
      "execution_count": null,
      "outputs": []
    },
    {
      "cell_type": "code",
      "metadata": {
        "id": "B3zL2epK9lTa"
      },
      "source": [
        "a[0] += [2]"
      ],
      "execution_count": null,
      "outputs": []
    },
    {
      "cell_type": "markdown",
      "metadata": {
        "id": "h9HnR9Ci99DK"
      },
      "source": [
        "#### Answer"
      ]
    },
    {
      "cell_type": "markdown",
      "metadata": {
        "id": "wFhYp-SA-Cii"
      },
      "source": [
        "+= is quivalent to:\n",
        "```\n",
        "result = a_list.__iadd__([1]) # same as calling extend. The __iadd__ succeeds, and thus the list is extended\n",
        "a_list = result\n",
        "```\n",
        "\n",
        "\n",
        "Source: https://docs.python.org/3/faq/programming.html#why-does-a-tuple-i-item-raise-an-exception-when-the-addition-works"
      ]
    },
    {
      "cell_type": "markdown",
      "metadata": {
        "id": "iM-TtHnMaL4o"
      },
      "source": [
        "### 5.All and emptiness"
      ]
    },
    {
      "cell_type": "code",
      "metadata": {
        "id": "8EGmqMi7aaCV"
      },
      "source": [
        "all([True, True, True, True, True])"
      ],
      "execution_count": null,
      "outputs": []
    },
    {
      "cell_type": "code",
      "metadata": {
        "id": "MqThyEmSac8D"
      },
      "source": [
        "all([False, True, True, True, True])"
      ],
      "execution_count": null,
      "outputs": []
    },
    {
      "cell_type": "code",
      "metadata": {
        "id": "UeKpEFynaS2X"
      },
      "source": [
        "all([])"
      ],
      "execution_count": null,
      "outputs": []
    },
    {
      "cell_type": "code",
      "metadata": {
        "id": "6gjE54KQaVNv"
      },
      "source": [
        "all([[]])"
      ],
      "execution_count": null,
      "outputs": []
    },
    {
      "cell_type": "code",
      "metadata": {
        "id": "oGIglGmoaVS2"
      },
      "source": [
        "all([[[]]])"
      ],
      "execution_count": null,
      "outputs": []
    },
    {
      "cell_type": "code",
      "metadata": {
        "id": "SF9kqXu4amZn"
      },
      "source": [
        "all([[[[]]]])"
      ],
      "execution_count": null,
      "outputs": []
    },
    {
      "cell_type": "markdown",
      "metadata": {
        "id": "ovJeVtJIamhT"
      },
      "source": [
        "#### Answer"
      ]
    },
    {
      "cell_type": "markdown",
      "metadata": {
        "id": "JwMWvMEfbzvG"
      },
      "source": [
        "all(...) applies bool(...) to every element that is fed inside, for example `all([[]])` is equivalent to `all([bool([])])` \n",
        "\n",
        "Let's see in python:"
      ]
    },
    {
      "cell_type": "code",
      "metadata": {
        "id": "T1oe3hsocLtK"
      },
      "source": [
        "bool([]) # => construction all([[]]) is equivalent to all([False]) what is by definition False"
      ],
      "execution_count": null,
      "outputs": []
    },
    {
      "cell_type": "markdown",
      "metadata": {
        "id": "OGbIIYUkew3S"
      },
      "source": [
        "Meanwhile `all([[[]]])` is equivalent to `all([bool([[]])])`"
      ]
    },
    {
      "cell_type": "code",
      "metadata": {
        "id": "i_WkVChxcOLm"
      },
      "source": [
        "bool([[]]) # because bool([]) = False and bool([False]) = True"
      ],
      "execution_count": null,
      "outputs": []
    },
    {
      "cell_type": "markdown",
      "metadata": {
        "id": "wpNfpWiPc8t6"
      },
      "source": [
        "Thus construction `all([[[]]])` is the same as `all([True])` what is True by defenition"
      ]
    },
    {
      "cell_type": "markdown",
      "metadata": {
        "id": "oaYtWM6eib9l"
      },
      "source": [
        "### 6. Global function"
      ]
    },
    {
      "cell_type": "code",
      "metadata": {
        "id": "l8WKHafrizHM"
      },
      "source": [
        "a = 1"
      ],
      "execution_count": null,
      "outputs": []
    },
    {
      "cell_type": "code",
      "metadata": {
        "id": "E7HVmjKPthWy"
      },
      "source": [
        "def func():\n",
        "  return a"
      ],
      "execution_count": null,
      "outputs": []
    },
    {
      "cell_type": "code",
      "metadata": {
        "id": "OHBnwZ22tkqf"
      },
      "source": [
        "func()"
      ],
      "execution_count": null,
      "outputs": []
    },
    {
      "cell_type": "code",
      "metadata": {
        "id": "664WvCZ9tkpz"
      },
      "source": [
        "def func_new():\n",
        "  a += 1\n",
        "  return a"
      ],
      "execution_count": null,
      "outputs": []
    },
    {
      "cell_type": "code",
      "metadata": {
        "id": "bH0cHLdLtpCc"
      },
      "source": [
        "func_new()"
      ],
      "execution_count": null,
      "outputs": []
    },
    {
      "cell_type": "markdown",
      "metadata": {
        "id": "MLHWLNQ8vx59"
      },
      "source": [
        "### 7. NaN"
      ]
    },
    {
      "cell_type": "code",
      "metadata": {
        "id": "MAStv7pjv3OE"
      },
      "source": [
        "x = float(\"nan\")\n",
        "y = float(\"nan\")\n",
        "x == x"
      ],
      "execution_count": null,
      "outputs": []
    },
    {
      "cell_type": "code",
      "metadata": {
        "id": "5ddaczk6v7b4"
      },
      "source": [
        "[x] == [x]"
      ],
      "execution_count": null,
      "outputs": []
    },
    {
      "cell_type": "code",
      "metadata": {
        "id": "-oSDi3NEv7eG"
      },
      "source": [
        "[x] == [y]"
      ],
      "execution_count": null,
      "outputs": []
    },
    {
      "cell_type": "markdown",
      "metadata": {
        "id": "UsLvN1grybsR"
      },
      "source": [
        "### 8. Final example"
      ]
    },
    {
      "cell_type": "code",
      "metadata": {
        "id": "XvC1bU0eyi1z"
      },
      "source": [
        "a = 100\n",
        "b = 100\n",
        "a is b"
      ],
      "execution_count": null,
      "outputs": []
    },
    {
      "cell_type": "code",
      "metadata": {
        "id": "gdLfZSmLy6c1"
      },
      "source": [
        "a = 300\n",
        "b = 300\n",
        "a is b"
      ],
      "execution_count": null,
      "outputs": []
    },
    {
      "cell_type": "markdown",
      "metadata": {
        "id": "F4hLFa3kOvLm"
      },
      "source": [
        "#### Answer"
      ]
    },
    {
      "cell_type": "code",
      "metadata": {
        "id": "pmCo1mpCO7wt"
      },
      "source": [
        "a = 100\n",
        "b = 100\n",
        "id(a) == id(b)"
      ],
      "execution_count": null,
      "outputs": []
    },
    {
      "cell_type": "code",
      "metadata": {
        "id": "A4g6aSnhO-76"
      },
      "source": [
        "a = 300\n",
        "b = 300\n",
        "id(a) == id(b)"
      ],
      "execution_count": null,
      "outputs": []
    },
    {
      "cell_type": "markdown",
      "metadata": {
        "id": "uM3TGV88ZXYX"
      },
      "source": [
        "**The current implementation keeps an array of integer objects for all integers between -5 and 256, when you create an int in that range you actually just get back a reference to the existing object. So it should be possible to change the value of 1**"
      ]
    },
    {
      "cell_type": "markdown",
      "metadata": {
        "id": "eisfkPc_Tfxs"
      },
      "source": [
        "<img src=\"https://github.com/DmitriiDenisov/talks/blob/master/images/1.jfif?raw=true\" width=\"300\">"
      ]
    },
    {
      "cell_type": "markdown",
      "metadata": {
        "id": "rC_YgB8QWto2"
      },
      "source": [
        "<img src=\"https://github.com/DmitriiDenisov/talks/blob/master/images/2.jfif?raw=true\" width=\"300\">"
      ]
    },
    {
      "cell_type": "markdown",
      "metadata": {
        "id": "G0hPWxJtWtuh"
      },
      "source": [
        "<img src=\"https://github.com/DmitriiDenisov/talks/blob/master/images/3.jfif?raw=true\" width=\"300\">"
      ]
    },
    {
      "cell_type": "markdown",
      "metadata": {
        "id": "JLNMruvJTfzn"
      },
      "source": [
        "<img src=\"https://github.com/DmitriiDenisov/talks/blob/master/images/4.jfif?raw=true\" width=\"300\">"
      ]
    },
    {
      "cell_type": "markdown",
      "metadata": {
        "id": "JL3MhOZwTf8J"
      },
      "source": [
        "<img src=\"https://github.com/DmitriiDenisov/talks/blob/master/images/5.jfif?raw=true\" width=\"300\">"
      ]
    },
    {
      "cell_type": "markdown",
      "metadata": {
        "id": "Y_llIua2XqBf"
      },
      "source": [
        "<img src=\"https://github.com/DmitriiDenisov/talks/blob/master/images/6.jfif?raw=true\" width=\"300\">"
      ]
    },
    {
      "cell_type": "markdown",
      "metadata": {
        "id": "GjVtbyX0XqEV"
      },
      "source": [
        "<img src=\"https://github.com/DmitriiDenisov/talks/blob/master/images/7.jfif?raw=true\" width=\"300\">"
      ]
    },
    {
      "cell_type": "code",
      "metadata": {
        "id": "Dd7EjG9hzDt2"
      },
      "source": [
        "a, b = 300, 300\n",
        "a is b"
      ],
      "execution_count": null,
      "outputs": []
    },
    {
      "cell_type": "code",
      "metadata": {
        "id": "dImR5UsdPGVm"
      },
      "source": [
        "import ctypes\n",
        "import sys\n",
        "\n",
        "def mutate(obj, new_obj):\n",
        "    if sys.getsizeof(obj) != sys.getsizeof(new_obj):\n",
        "        raise ValueError('objects must have same size')\n",
        "\n",
        "    mem = (ctypes.c_byte * sys.getsizeof(obj)).from_address(id(obj))\n",
        "    new_mem = (ctypes.c_byte * sys.getsizeof(new_obj)).from_address(id(new_obj))\n",
        "\n",
        "    for i in range(len(mem)):\n",
        "        mem[i] = new_mem[i]"
      ],
      "execution_count": null,
      "outputs": []
    },
    {
      "cell_type": "code",
      "metadata": {
        "id": "cyKPXWQ9kZx3"
      },
      "source": [
        "x = 'a'\n",
        "print('x =', x)"
      ],
      "execution_count": null,
      "outputs": []
    },
    {
      "cell_type": "code",
      "metadata": {
        "id": "hDcoVAmmng8o"
      },
      "source": [
        "mutate('a', 'b')\n",
        "print('Now x =', x) # prints: 'b'"
      ],
      "execution_count": null,
      "outputs": []
    },
    {
      "cell_type": "code",
      "metadata": {
        "id": "0C1LvA6tn85q"
      },
      "source": [
        "'a'"
      ],
      "execution_count": null,
      "outputs": []
    },
    {
      "cell_type": "code",
      "metadata": {
        "id": "Thr-WQlblH62"
      },
      "source": [
        "mutate(50, 100)"
      ],
      "execution_count": null,
      "outputs": []
    },
    {
      "cell_type": "code",
      "metadata": {
        "id": "oK4lpCk9kbhh"
      },
      "source": [
        "50"
      ],
      "execution_count": null,
      "outputs": []
    },
    {
      "cell_type": "code",
      "metadata": {
        "id": "Bs-yEbnLCwA3"
      },
      "source": [
        "50 + 1"
      ],
      "execution_count": null,
      "outputs": []
    },
    {
      "cell_type": "code",
      "metadata": {
        "id": "-DRaZYUICyAu"
      },
      "source": [
        "50 * 2"
      ],
      "execution_count": null,
      "outputs": []
    },
    {
      "cell_type": "code",
      "metadata": {
        "id": "d__TqU4HmTdp"
      },
      "source": [
        "25 * 2"
      ],
      "execution_count": null,
      "outputs": []
    },
    {
      "cell_type": "code",
      "metadata": {
        "id": "XU4GdPmYmYeI"
      },
      "source": [
        "49 + 1"
      ],
      "execution_count": null,
      "outputs": []
    },
    {
      "cell_type": "code",
      "metadata": {
        "id": "TZ0Ut5Humliu"
      },
      "source": [
        "50 * 2 == 200"
      ],
      "execution_count": null,
      "outputs": []
    },
    {
      "cell_type": "code",
      "metadata": {
        "id": "YXcJoSfVCyDD"
      },
      "source": [
        "50 // 2 == 100 ## Why True?"
      ],
      "execution_count": null,
      "outputs": []
    },
    {
      "cell_type": "code",
      "metadata": {
        "id": "AOWAX6NZDDzs"
      },
      "source": [
        "a = 500\n",
        "print('a = ', a)\n",
        "b = 500\n",
        "print('b = ', b)"
      ],
      "execution_count": null,
      "outputs": []
    },
    {
      "cell_type": "code",
      "metadata": {
        "id": "l4bcokcEC24i"
      },
      "source": [
        "mutate(a, 600)\n",
        "print('Now a = ', a) # prints: 400\n",
        "print('Now b = ', b) # prints: 300"
      ],
      "execution_count": null,
      "outputs": []
    },
    {
      "cell_type": "markdown",
      "metadata": {
        "id": "pDCwWOPkpf_j"
      },
      "source": [
        "#### Change to python2 and swap True and False"
      ]
    },
    {
      "cell_type": "code",
      "metadata": {
        "id": "Oi8qREmgkbgm"
      },
      "source": [
        "True, False = False, True"
      ],
      "execution_count": null,
      "outputs": []
    },
    {
      "cell_type": "code",
      "metadata": {
        "id": "NTvjAdhaqZmw"
      },
      "source": [
        "if False:\n",
        "  print('1')\n",
        "else:\n",
        "  print('2')"
      ],
      "execution_count": null,
      "outputs": []
    },
    {
      "cell_type": "markdown",
      "metadata": {
        "id": "V-Q-hE4P2ztz"
      },
      "source": [
        "### 8.1 Bonus (remove?)"
      ]
    },
    {
      "cell_type": "code",
      "metadata": {
        "id": "PNzsmwjrvKzv"
      },
      "source": [
        "one = [1, 2]\n",
        "two = [one, one]\n",
        "one[1] = 100\n",
        "two"
      ],
      "execution_count": null,
      "outputs": []
    },
    {
      "cell_type": "code",
      "metadata": {
        "id": "VWJsKjxn2zt1"
      },
      "source": [
        "expected = [ [9],[0] ]\n",
        "unexpected = [ [9],[9] ]\n",
        "basic = [ [0],[0] ]\n",
        "basic[0][0] = 9\n",
        "print(basic == expected) # this is true"
      ],
      "execution_count": null,
      "outputs": []
    },
    {
      "cell_type": "code",
      "metadata": {
        "id": "Zp7WVK_I2zuD"
      },
      "source": [
        "l = [0]\n",
        "modified = [ l, l ]\n",
        "modified[0][0] = 9\n",
        "print(modified == expected) # this is false\n",
        "print(modified == unexpected) # this is true"
      ],
      "execution_count": null,
      "outputs": []
    },
    {
      "cell_type": "code",
      "metadata": {
        "id": "5ZpMftdz2zuN"
      },
      "source": [
        "modified"
      ],
      "execution_count": null,
      "outputs": []
    },
    {
      "cell_type": "markdown",
      "metadata": {
        "id": "PfKrtyWg2zuW"
      },
      "source": [
        "## Fast Quiz!"
      ]
    },
    {
      "cell_type": "markdown",
      "metadata": {
        "id": "dic0RUZwzTpe"
      },
      "source": [
        "#### Question 1:"
      ]
    },
    {
      "cell_type": "code",
      "metadata": {
        "id": "2Z44Qj1G2zua"
      },
      "source": [
        "x, y = ## ???\n",
        "x+y == y+x # Should be False"
      ],
      "execution_count": null,
      "outputs": []
    },
    {
      "cell_type": "markdown",
      "metadata": {
        "id": "ZpZgShUVzWuZ"
      },
      "source": [
        "#### Question 2:"
      ]
    },
    {
      "cell_type": "code",
      "metadata": {
        "id": "SKVuxPocdN8R"
      },
      "source": [
        "x, y, z = ## ???"
      ],
      "execution_count": null,
      "outputs": []
    },
    {
      "cell_type": "code",
      "metadata": {
        "id": "xo4YSpdyd0nI"
      },
      "source": [
        "x * (y * z) == (x * y) * z ## Should be False"
      ],
      "execution_count": null,
      "outputs": []
    },
    {
      "cell_type": "markdown",
      "metadata": {
        "id": "f3pxPzqAzWye"
      },
      "source": [
        "#### Question 3:"
      ]
    },
    {
      "cell_type": "code",
      "metadata": {
        "id": "h39QmaGmiLX1"
      },
      "source": [
        "x, y = \"aa\", \"aa\" ## ???\n",
        "y > max(x) and y in x ## Should be True"
      ],
      "execution_count": null,
      "outputs": []
    }
  ]
}